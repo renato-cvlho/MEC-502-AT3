{
  "nbformat": 4,
  "nbformat_minor": 0,
  "metadata": {
    "colab": {
      "provenance": []
    },
    "kernelspec": {
      "name": "python3",
      "display_name": "Python 3"
    },
    "language_info": {
      "name": "python"
    }
  },
  "cells": [
    {
      "cell_type": "markdown",
      "source": [
        "# Viga de Euler-Bernoulli\n",
        "\n",
        "Exemplo baseado na documentação e em livros de Mecânica do Sólidos  \n",
        "**Notebook por:** Paulo de Souza Silva  \n",
        "**Data:** Maio/Junho de 2025  \n",
        "**Notebook modificado por:** Renato César de Carvalho\n"
      ],
      "metadata": {
        "id": "37_lIK8dk0py"
      }
    },
    {
      "cell_type": "markdown",
      "source": [
        "**IGNORE ESTE CÓDIGO INICIAL**\n",
        "\n",
        "* Se a figura da viga não aparecer, basta rodá-lo.\n"
      ],
      "metadata": {
        "id": "im18bSN9k6FC"
      }
    },
    {
      "cell_type": "code",
      "source": [
        "import requests\n",
        "from PIL import Image\n",
        "from io import BytesIO\n",
        "\n",
        "file_id = '1edxwWuIbEqsOuIIw1E2d2nQD1AX6VrxC'\n",
        "url = f'https://drive.google.com/uc?export=view&id={file_id}'\n",
        "\n",
        "response = requests.get(url)\n",
        "img = Image.open(BytesIO(response.content))\n",
        "\n",
        "new_size = (400, 300)  # (largura, altura) em pixels\n",
        "img_resized = img.resize(new_size)\n",
        "\n",
        "display(img_resized)"
      ],
      "metadata": {
        "colab": {
          "base_uri": "https://localhost:8080/",
          "height": 317
        },
        "id": "k26KsA5VsQ8O",
        "outputId": "d406f569-7042-4f12-81d2-9d509745e4ac"
      },
      "execution_count": null,
      "outputs": [
        {
          "output_type": "display_data",
          "data": {
            "text/plain": [
              "<PIL.Image.Image image mode=RGBA size=400x300>"
            ],
            "image/png": "[encoded data removed]"
          },
          "metadata": {}
        }
      ]
    },
    {
      "cell_type": "markdown",
      "source": [
        "## Obtenção da Solução Analítica\n",
        "\n",
        "A viga engastada com carga distribuída é um problema comum da formulação de Euler-Bernoulli, cujo o formalismo matemático (Gere,2003; Beer, 2017) pode ser expresso por:\n",
        "\n",
        "$$EI\\frac{d^4y}{dx^4} = - w(x)$$\n",
        "\n",
        "considerando o carregamento para baixo **positivo**.\n",
        "\n",
        "Por ser uma equação diferencial de quarta ordem a mesma exige quatro condições para ser resolvida.\n",
        "\n",
        "Das considerações de **força cortante** e **momento fletor**, temos que **nessa configuração da Figura**:\n",
        "$$V(x) = \\frac{wL}{2} - wx \\hspace{2cm} M(x) = \\frac{wLx}{2} - \\frac{wx^2}{2}$$\n",
        "\n",
        "Para o formalismo adotado, temos que:\n",
        "$$EI\\frac{d^3y}{dx^3} = V(x) \\hspace{2cm} EI\\frac{d^2y}{dx^2} = M(x)$$\n",
        "\n",
        "Com isso em mente, podemos resolver a EDO de quarta ordem, basta aplicarmos uma integral quatro vezes e depois considerar as condições.\n",
        "\n"
      ],
      "metadata": {
        "id": "mZE6PuxKum9m"
      }
    },
    {
      "cell_type": "markdown",
      "source": [
        "### Integrações\n",
        "Como sabemos que w é constante ele não depende de x e logo temos:\n",
        "\n",
        "### 1ª Integração\n",
        "$$EIy''' = -wx + C_1 = V(x)$$\n",
        "\n",
        "### 2ª Integração\n",
        "$$EIy'' = -w\\frac{x^2}{2} + C_1x + C_2= M(x)$$\n",
        "\n",
        "### 3ª Integração\n",
        "$$EIy' = -w\\frac{x^3}{6} + C_1\\frac{x^2}{2} + C_2x + C_3$$\n",
        "\n",
        "### 4ª Integração\n",
        "$$EIy = -w\\frac{x^4}{24} + C_1\\frac{x^3}{6} + C_2\\frac{x^2}{2} + C_3x + C_4$$\n",
        "\n",
        "Agora vamos analisar, as condições de contorno e as definições de momento fletor e força cortante para encontrar as constantes.\n",
        "\n",
        "Na articulação ($x=0$), nós não teremos deslocamentos, o que leva a:\n",
        "$$y(x=0) = 0$$\n",
        "\n",
        "o que implica das integrações 4 que\n",
        "\n",
        "$$\\fbox{$ C_4 = 0$}$$\n",
        "\n",
        "Na articulação da extremidade esquerda, fletor e cortante valem:\n",
        "$$V(0) = \\frac{wL}{2} \\hspace{2cm} M(0) = 0$$\n",
        "\n",
        "da 1ª integração:\n",
        "$$-w0 + C_1 = V(x) = \\frac{wL}{2} \\Rightarrow \\fbox{$C_1 = \\frac{wL}{2}$}$$\n",
        "desse resultado, do momento fletor e da segunda integração\n",
        "$$-w\\frac{0^2}{2} + C_10 + C_2= M(x) = 0 \\Rightarrow \\fbox{$C_2 = 0$}$$\n",
        "\n",
        "Para ($x=L$), nós não teremos deslocamentos, o que leva a:\n",
        "$$y(x=L) = 0$$\n",
        "$$EI0 = -w\\frac{L^4}{24} +\\frac{wL}{2}\\frac{L^3}{6} + 0\\frac{L^2}{2} + C_3L$$\n",
        "$$\\fbox{$ C_3 = -\\frac{wL^3}{24}$}$$\n",
        "\n",
        "Assim, podemos então substituir na quarta integral e passar a relação EI dividindo e encontramos a equação do deslocamento dessa viga\n",
        "\n",
        "$$y = -\\frac{w}{24EI}(x^4 -2Lx^3 + L^3 x)$$"
      ],
      "metadata": {
        "id": "TlntlBkO6lf6"
      }
    },
    {
      "cell_type": "markdown",
      "source": [
        "> **Obs:** É preciso ter muito cuidado com relação aos sinais (que devem ser adotados de maneira coerente), em algumas literaturas  é possível encontrar:\n",
        "$$EI\\frac{d^4y}{dx^4} = w(x)$$\n",
        "nesse caso, assume-se que o carregamento para baixo é **negativo**"
      ],
      "metadata": {
        "id": "_WFtSHDa3obO"
      }
    },
    {
      "cell_type": "markdown",
      "source": [
        "> **Obs2:** A equação diferencial de quarta ordem que governa o problema foi admensionalizada para evitar problemas relacionados aos parâmetros utilizados nela. Percebi que quando temos valores elevados de E, ou I, ou talvez quando a ordem de grandeza desse parametros é muito diferente, a PINN tem bastante dificuldade para calcular resultados válidos, mesmo que haja convergência. Tentei considerar diferentes unidades, mas não funcionou. Única solução que encontrei foi admensionalizar a EDO, como segue:\n",
        "\n",
        "$$ \\overset ax=\\frac{\\overset dx}L\\\\Onde\\;\\overset dx\\;é\\;a\\;coordenada\\;x\\;dimensional\\;0\\leqslant\\overset dx\\leqslant L\\\\e\\;\\overset ax\\;é\\;a\\;coordenada\\;x\\;admensional\\;0\\leqslant\\overset ax\\leqslant 1 $$\n",
        "\n",
        "$$ \\overset ay=\\frac{\\overset dy}L\\\\Onde\\;\\overset dy\\;é\\;a\\;coordenada\\;y\\;dimensional\\\\e\\;\\overset ay\\;é\\;a\\;coordenada\\;x\\;admensional $$\n",
        "\n",
        "$$ \\overset aw=\\frac{\\overset d{w\\;}L^3}{EI}\\\\Onde\\;\\overset dw\\;é\\;a\\;carga\\;distrubuida\\;dimensional\\\\e\\;\\overset aw\\;é\\;a\\;carga\\;distrubuida\\;admensional $$\n",
        "\n",
        "$$ \\frac{d^4{\\displaystyle\\overset ay}}{d{\\displaystyle\\overset ax}^4}+\\overset a{w} =0$$"
      ],
      "metadata": {
        "id": "lIErt5hQJLmN"
      }
    },
    {
      "cell_type": "markdown",
      "source": [
        "**referências**  \n",
        "Beer, F., E. Johnston, J. DeWolf and D. Mazurek. Mechanics of Materials, 7e in SI Units. Stress 1.11 (2017): 1-12.  \n",
        "Gere, J. M. Mecânica dos Materiais, Editora Thomson Learning. 2003."
      ],
      "metadata": {
        "id": "pBOEIM7R2PvT"
      }
    },
    {
      "cell_type": "markdown",
      "source": [
        "## Resolução da Viga com DeepXDE"
      ],
      "metadata": {
        "id": "6uCtUwDf5n2J"
      }
    },
    {
      "cell_type": "markdown",
      "source": [
        "**instalar o DeepXDE no Colab**\n",
        "\n",
        "[Installation DeepXDE](https://deepxde.readthedocs.io/en/latest/user/installation.html)\n",
        "\n",
        "* Para instalar no Colab, usamos antes do `pip` o símbolo `!`\n",
        "* Para a célula ficar limpa ao fim da instalação adicionamos o `-q` entre o `install` e o nome da biblioteca"
      ],
      "metadata": {
        "id": "0zra6PvpYmqV"
      }
    },
    {
      "cell_type": "code",
      "execution_count": null,
      "metadata": {
        "id": "eJ3OQD4eXorE",
        "colab": {
          "base_uri": "https://localhost:8080/"
        },
        "outputId": "6f87256f-1c1b-4e12-c090-629b8ccbaa0f"
      },
      "outputs": [
        {
          "output_type": "stream",
          "name": "stdout",
          "text": [
            "\u001b[?25l   \u001b[90m━━━━━━━━━━━━━━━━━━━━━━━━━━━━━━━━━━━━━━━━\u001b[0m \u001b[32m0.0/194.2 kB\u001b[0m \u001b[31m?\u001b[0m eta \u001b[36m-:--:--\u001b[0m\r\u001b[2K   \u001b[91m━━━━━━━━━━━━━━━━━━━━━━━━━━━━━━━━━━━━━\u001b[0m\u001b[91m╸\u001b[0m\u001b[90m━━\u001b[0m \u001b[32m184.3/194.2 kB\u001b[0m \u001b[31m7.3 MB/s\u001b[0m eta \u001b[36m0:00:01\u001b[0m\r\u001b[2K   \u001b[90m━━━━━━━━━━━━━━━━━━━━━━━━━━━━━━━━━━━━━━━━\u001b[0m \u001b[32m194.2/194.2 kB\u001b[0m \u001b[31m4.8 MB/s\u001b[0m eta \u001b[36m0:00:00\u001b[0m\n",
            "\u001b[?25h\u001b[?25l   \u001b[90m━━━━━━━━━━━━━━━━━━━━━━━━━━━━━━━━━━━━━━━━\u001b[0m \u001b[32m0.0/107.8 kB\u001b[0m \u001b[31m?\u001b[0m eta \u001b[36m-:--:--\u001b[0m\r\u001b[2K   \u001b[90m━━━━━━━━━━━━━━━━━━━━━━━━━━━━━━━━━━━━━━━━\u001b[0m \u001b[32m107.8/107.8 kB\u001b[0m \u001b[31m7.3 MB/s\u001b[0m eta \u001b[36m0:00:00\u001b[0m\n",
            "\u001b[?25h"
          ]
        }
      ],
      "source": [
        "! pip install -q deepxde"
      ]
    },
    {
      "cell_type": "markdown",
      "source": [
        "**bibliotecas principais**\n",
        "\n",
        "* Aqui chamamos as bibliotecas principais que são padrões como `numpy` e o `matplotlib`\n",
        "* Além delas, é claro, vamos chamar o `deepxde`; como ele tem como backends o `tensorflow, pytorch, jax` e o `paddle` uma dessas também tem que ser chamada, escolheremos o pytorch.\n",
        "* Devemos dizer ao DeepXDE que o pytorch será nosso backend e usamos o comando `backend.backend_name`"
      ],
      "metadata": {
        "id": "H-IVa6e5YtEI"
      }
    },
    {
      "cell_type": "code",
      "source": [
        "import numpy as np\n",
        "import matplotlib.pyplot as plt\n",
        "import deepxde as dde\n",
        "import torch\n",
        "dde.backend.backend_name = \"pytorch\""
      ],
      "metadata": {
        "id": "40fRT4m6YfgT",
        "collapsed": true,
        "colab": {
          "base_uri": "https://localhost:8080/"
        },
        "outputId": "5d26268b-01d8-4ad3-fd01-f3a51b99cb99"
      },
      "execution_count": null,
      "outputs": [
        {
          "output_type": "stream",
          "name": "stdout",
          "text": [
            "No backend selected.\n",
            "Finding available backend...\n"
          ]
        },
        {
          "output_type": "stream",
          "name": "stderr",
          "text": [
            "Using backend: tensorflow.compat.v1\n",
            "Other supported backends: tensorflow, pytorch, jax, paddle.\n",
            "paddle supports more examples now and is recommended.\n",
            "WARNING:tensorflow:From /usr/local/lib/python3.11/dist-packages/tensorflow/python/compat/v2_compat.py:98: disable_resource_variables (from tensorflow.python.ops.resource_variables_toggle) is deprecated and will be removed in a future version.\n",
            "Instructions for updating:\n",
            "non-resource variables are not supported in the long term\n"
          ]
        },
        {
          "output_type": "stream",
          "name": "stdout",
          "text": [
            "Found tensorflow.compat.v1\n",
            "Setting the default backend to \"tensorflow.compat.v1\". You can change it in the ~/.deepxde/config.json file or export the DDE_BACKEND environment variable. Valid options are: tensorflow.compat.v1, tensorflow, pytorch, jax, paddle (all lowercase)\n"
          ]
        }
      ]
    },
    {
      "cell_type": "markdown",
      "source": [
        "**parâmetros do problema**"
      ],
      "metadata": {
        "id": "Eryt5binADvw"
      }
    },
    {
      "cell_type": "code",
      "source": [
        "L = 6 # m\n",
        "w = 2 # kN/m\n",
        "E = 2.1e8 # N/m^2\n",
        "I = 22.5e-5 # m^4\n",
        "EI = E*I"
      ],
      "metadata": {
        "id": "jz4ihuGiQU7o"
      },
      "execution_count": null,
      "outputs": []
    },
    {
      "cell_type": "markdown",
      "source": [
        "**solucao analitica**"
      ],
      "metadata": {
        "id": "uplLwm7nj8E_"
      }
    },
    {
      "cell_type": "code",
      "source": [
        "def func(x):\n",
        "    return -(w/(24*EI))*((x**4)-2*L*(x**3)+(L**3)*x)"
      ],
      "metadata": {
        "id": "AvP_NzrQZWsW"
      },
      "execution_count": null,
      "outputs": []
    },
    {
      "cell_type": "markdown",
      "source": [
        "**Definindo o Intervalo**\n",
        "\n",
        "Como temos um problema 1D, podemos definir o intervalo com auxílio da **classe** `geometry`\n",
        "* `geometry.geometry_1d.Interval(l,r)`\n",
        "\n",
        "em que l é o valor a esquerda e r o valor a direita (no nosso caso a origem até o comprimento da viga)\n",
        "\n",
        "Lembre-se que a comprimento da viga foi adimensionalizado. Logo varia de 0 até 1."
      ],
      "metadata": {
        "id": "WnR7KvDdOHX7"
      }
    },
    {
      "cell_type": "code",
      "source": [
        "geom = dde.geometry.geometry_1d.Interval(0, 1)"
      ],
      "metadata": {
        "id": "Y5SXmTweY7O1"
      },
      "execution_count": null,
      "outputs": []
    },
    {
      "cell_type": "markdown",
      "source": [
        "### Derivadas Uteis e Definicao da EDO do problema\n",
        "\n",
        "Como estamos usando o Pytorch, podemos fazer as derivadas considerando o uso da classe `grad` (remete a gradiente e as funções autograd, internas as bibliotecas como o próprio Pytorch, TensorFlow etc)\n",
        "\n",
        "A estratégia é, calcular a derivada segunda e a derivada terceira em um primeiro momento, para serem usadas nas condições de contorno.\n",
        "\n",
        "Para isso usamos as opções `grad.hessian` e `grad.jacobian`\n",
        "\n",
        "> **1. JACOBIANO**\n",
        "* Para um função escalar $f(x)$, o Jacobiano é simplemente a **primeira derivada** com respeito a variável  \n",
        "$$\\frac{df}{dx}$$\n",
        "* Para um função multivariável $f(x,y)$ em 2D, o Jacobiano é um vetor de derivadas parciais com relação a cada variável.  \n",
        "$$J = \\begin{bmatrix}\n",
        "\\frac{\\partial f}{\\partial x} \\\\\n",
        "\\frac{\\partial f}{\\partial y}\n",
        "\\end{bmatrix}$$\n",
        "\n",
        "> **2. HESSIANO**\n",
        "* O Hessiano é uma matriz de derivadas parciais de segunda ordem;\n",
        "* Para um função escalar $f(x)$ em 1D, é apenas a **segunda derivada** com respeito a $x$.\n",
        "$$\\frac{d^2f}{dx^2}$$\n",
        "* Para um função multivariável $f(x,y)$ em 2D, é uma matriz que inclui todos derivaradas de segunda ordem possível.\n",
        "$$H = \\begin{bmatrix}\n",
        "\\frac{\\partial^2f}{\\partial x^2} & \\frac{\\partial ^2f}{\\partial x \\partial y} \\\\\n",
        "\\frac{\\partial^2f}{\\partial y \\partial x} & \\frac{\\partial^2f}{\\partial y^2}\n",
        "\\end{bmatrix}$$\n",
        "\n",
        "**Ver vídeo:** [DeepXDE Tutorial 2](https://youtu.be/Nsf5bmI54oc?si=gkTdPnNFhr7ZWYDi)\n",
        "\n",
        "Uma estratégia similar decorre para a EDO do nosso problema, que tem derivada de 4 ordem."
      ],
      "metadata": {
        "id": "K9ersD6Cjdee"
      }
    },
    {
      "cell_type": "code",
      "source": [
        "# Derivadas de Ordem 2\n",
        "def ddy(x, y):\n",
        "    return dde.grad.hessian(y, x)\n",
        "\n",
        "# Derivada de Ordem 1 da Derivada de Ordem 2 (3 Derivada)\n",
        "def dddy(x, y):\n",
        "    return dde.grad.jacobian(ddy(x, y), x)"
      ],
      "metadata": {
        "id": "f4s4yt35ZOaC"
      },
      "execution_count": null,
      "outputs": []
    },
    {
      "cell_type": "code",
      "source": [
        "# Definicao da EDO do problema\n",
        "def pde(x, y):\n",
        "    # Chamando a funcao da derivada segunda\n",
        "    dy_xx = ddy(x, y)\n",
        "    # Usando o Hessiano para derivar duas vezes (4 ordem)\n",
        "    dy_xxxx = dde.grad.hessian(dy_xx, x)\n",
        "    return dy_xxxx + (w*(L**3))/(E*I)\n"
      ],
      "metadata": {
        "id": "DwGK-u0gZQdY"
      },
      "execution_count": null,
      "outputs": []
    },
    {
      "cell_type": "markdown",
      "source": [
        "### Condições de Contorno\n",
        "\n",
        "Como estamos trabalhando em um problema 1D, os pontos de teste que usamos são sempre conferidos somente **um de cada vez** tornando-se **um ponto** do domínio, logo:\n",
        "* Se estamos olhando **na esquerda do domínio** `x[0]`$\\approx$ `0`\n",
        "* Se estamos olhando **na direita do domínio** `x[0]`$\\approx$ `L`\n",
        "\n",
        "Se o dominio fosse bi-dimensional, **cada ponto** teria **duas coordendas** `x[0]` e `x[1]`\n",
        "\n",
        "Dessa forma e pra evitar erros numéricos, podemos definir que:\n",
        "* o contorno a esquerda (`boundary_l`) e\n",
        "* a direita (`boundary_r`)\n",
        "\n",
        "podem ser definidos como segue, em que retornam um valor verdadeiro para:\n",
        "* `x[0]` próximo a zero e\n",
        "* `x[0]` próximo a L.\n",
        "\n",
        "Já o `on_boundary` é um **booleano** que o próprio DeepXDE vai definir para que a avaliação seja de fato feita **somente na fronteira**."
      ],
      "metadata": {
        "id": "ch-RRh2RjMQW"
      }
    },
    {
      "cell_type": "code",
      "source": [
        "def boundary_l(x, on_boundary):\n",
        "    return on_boundary and dde.utils.isclose(x[0], 0)\n",
        "\n",
        "def boundary_r(x, on_boundary):\n",
        "    return on_boundary and dde.utils.isclose(x[0], 1)"
      ],
      "metadata": {
        "id": "WhHRRjEPZSYB"
      },
      "execution_count": null,
      "outputs": []
    },
    {
      "cell_type": "markdown",
      "source": [
        "Seguindo com relação as condições de contorno, como definidos de fato quais pontos são nas fronteiras, podemos declarar as quatro condições:\n",
        "* bc1 - $y$ em x = 0 deve ser nula (**condição de Dirichlet**)\n",
        "* bc2 - $y$ em x = 1 deve ser nula (**condição de Dirichlet**)\n",
        "* bc3 - $d^2y/dx^2$ em $x = 0$ deve ser nulo (**Momento Fletor**)  \n",
        "* bc4 - $d^2y/dx^2$ em $x = 1$ deve ser nulo (**Momento Fletor**)\n",
        "\n",
        "* Para bc1 e bc2 existe uma classe específica **`icbc.DirichletBC`**\n",
        "\n",
        "* Como bc3 e bc4 exigem expressões além das condições tradicionais, devemos usar uma terceira classe que é a **`icbc.OperatorBC`** (funciona como uma função resíduo).\n",
        "\n",
        "Dentro de cada uma delas, precisamos definir:\n",
        "* geometria,\n",
        "* uma função (ou valor via função), e\n",
        "* qual posição do contorno"
      ],
      "metadata": {
        "id": "Jmlwahyya0xe"
      }
    },
    {
      "cell_type": "code",
      "source": [
        "bc1 = dde.icbc.DirichletBC(geom, lambda x: 0, boundary_l)\n",
        "bc2 = dde.icbc.DirichletBC(geom, lambda x: 0, boundary_r)\n",
        "bc3 = dde.icbc.OperatorBC(geom, lambda x, y, _: ddy(x, y), boundary_r)\n",
        "bc4 = dde.icbc.OperatorBC(geom, lambda x, y, _: ddy(x, y), boundary_l)"
      ],
      "metadata": {
        "id": "6j9ZSNhrZabe"
      },
      "execution_count": null,
      "outputs": []
    },
    {
      "cell_type": "markdown",
      "source": [
        "**Obs:** `_` aqui é um *placeholder* para input_gradients, se precisar (não usado aqui)."
      ],
      "metadata": {
        "id": "aU8wSPNqeBnL"
      }
    },
    {
      "cell_type": "markdown",
      "source": [
        "### Dados para o DeepXDE\n",
        "[Modulo data.pde](https://deepxde.readthedocs.io/en/latest/modules/deepxde.data.html#module-deepxde.data.pde)\n",
        "\n",
        "Agora que temos a nossa equação diferencial e as condições de contorno, definimos o conjunto de **\"dados\"** para nossa rede, na ocasião devemos usar o módulo `data.PDE` dentro dele chamamos e definimos:\n",
        "* `geometry` - geometria\n",
        "* `pde` - equação diferencial\n",
        "* `bcs` - as condições de contorno\n",
        "* `num_domain` número inteiro de pontos dentro do domínio para o **treinamento**\n",
        "* `num_boundary` número inteiro de pontos de **treino** na fronteira\n",
        "* `num_test` número inteiro de pontos de **teste**\n",
        "\n",
        "Outras coisas podem ser definidas, como: **tipo de distribuição** para os dados de treinamento, dados de uma **solução de referência** etc"
      ],
      "metadata": {
        "id": "WPIka9ZhkUm0"
      }
    },
    {
      "cell_type": "code",
      "source": [
        "data = dde.data.PDE(\n",
        "    geom,\n",
        "    pde,\n",
        "    [bc1, bc2, bc3, bc4],\n",
        "    num_domain=100,\n",
        "    num_boundary=10,\n",
        ")"
      ],
      "metadata": {
        "id": "pyHz01ReZcbk"
      },
      "execution_count": null,
      "outputs": []
    },
    {
      "cell_type": "code",
      "source": [
        "# data = dde.data.PDE(\n",
        "#     geom,\n",
        "#     pde,\n",
        "#     [bc1, bc2, bc3, bc4],\n",
        "#     num_domain=10,\n",
        "#     num_boundary=2,\n",
        "#     solution=func,\n",
        "#     num_test=100,\n",
        "# )"
      ],
      "metadata": {
        "id": "IM5UP9EjmSL1"
      },
      "execution_count": null,
      "outputs": []
    },
    {
      "cell_type": "markdown",
      "source": [
        "### Criação da Rede\n",
        "[PytorchFNN](https://deepxde.readthedocs.io/en/latest/modules/deepxde.nn.pytorch.html#module-deepxde.nn.pytorch.fnn)\n",
        "\n",
        "Agora, precisamos definir o **formato** da nossa rede, sua **função de ativação**, o **tipo de inicializador** dos pesos e vieses etc:\n",
        "\n",
        "* Vamos adotar **1 entrada**, **1 saída** e **3 camadas ocultas** com **20 neurônios**\n",
        "* rede Fully-Connected (FNN)\n",
        "* Nossa função de ativação será a **tangente hiperbólica `tanh`**\n",
        "* A função de inicialização de pesos será a **`Glorot uniform`**"
      ],
      "metadata": {
        "id": "-2FGMvdDkcbd"
      }
    },
    {
      "cell_type": "code",
      "source": [
        "layer_size = [1] + [50]*5 + [1]\n",
        "activation = \"tanh\"\n",
        "initializer = \"Glorot uniform\"\n",
        "net = dde.nn.FNN(layer_size, activation, initializer)"
      ],
      "metadata": {
        "id": "4H3DxPXBZeoF"
      },
      "execution_count": null,
      "outputs": []
    },
    {
      "cell_type": "markdown",
      "source": [
        "### Modelo e Otimização\n",
        "Com os **dados** e o **formato da rede definidos**, montamos nosso **modelo** e colocamos ele para **otimizar/treinar**.\n",
        "\n",
        "* Para definir o modelo usamos o **classe** `Model(data,net)`\n",
        "* A esse modelo definimos configurações para o treino como:\n",
        "  * **Otimizador:** (Adam, BFGS)\n",
        "  * **Taxa de aprendizado** (*lr*)\n",
        "  * **metricas:** são métricas desejadas para serem calculadas durante o treino, pode ser usada quando existem dados iniciais\n",
        "\n",
        "Com esses parâmetros definidos, podemos treinar o modelo, sendo possível definir:\n",
        "* `iterations`: número de iterações (épocas)\n",
        "* `batch_size`:\n",
        "* `display_every`: a cada quantas épocas deve ser printado o avanço (padrão é 1000)  \n",
        "\n",
        "Como retorno tem *losshistory* e *train_state*"
      ],
      "metadata": {
        "id": "YPXtlJiWkfBq"
      }
    },
    {
      "cell_type": "code",
      "source": [
        "model = dde.Model(data, net)\n",
        "#model.compile(\"adam\", lr=0.001, metrics=[\"l2 relative error\"])\n",
        "model.compile(\"adam\", lr=0.001)\n",
        "N_iter = 2000\n",
        "step = 200\n",
        "losshistory, train_state = model.train(iterations=N_iter,display_every=step)"
      ],
      "metadata": {
        "colab": {
          "base_uri": "https://localhost:8080/"
        },
        "id": "nvH0Rdq4Zg3H",
        "outputId": "b794a3d8-463e-485f-bb81-3d8b0cb9b497"
      },
      "execution_count": null,
      "outputs": [
        {
          "output_type": "stream",
          "name": "stdout",
          "text": [
            "Compiling model...\n",
            "'compile' took 2.136289 s\n",
            "\n",
            "Training model...\n",
            "\n",
            "Step      Train loss                                            Test loss                                             Test metric\n",
            "0         [3.47e-01, 0.00e+00, 2.85e-02, 4.17e-02, 0.00e+00]    [3.47e-01, 0.00e+00, 2.85e-02, 4.17e-02, 0.00e+00]    []  \n",
            "200       [2.77e-05, 6.15e-11, 1.73e-09, 1.36e-06, 2.37e-06]    [2.77e-05, 6.15e-11, 1.73e-09, 1.36e-06, 2.37e-06]    []  \n",
            "400       [1.75e-05, 6.67e-09, 1.21e-08, 1.72e-06, 2.08e-06]    [1.75e-05, 6.67e-09, 1.21e-08, 1.72e-06, 2.08e-06]    []  \n",
            "600       [1.07e-05, 2.67e-09, 5.47e-09, 8.39e-07, 1.54e-06]    [1.07e-05, 2.67e-09, 5.47e-09, 8.39e-07, 1.54e-06]    []  \n",
            "800       [5.46e-06, 6.59e-10, 2.08e-09, 3.54e-07, 1.09e-06]    [5.46e-06, 6.59e-10, 2.08e-09, 3.54e-07, 1.09e-06]    []  \n",
            "1000      [2.01e-06, 5.94e-11, 6.26e-10, 1.14e-07, 6.14e-07]    [2.01e-06, 5.94e-11, 6.26e-10, 1.14e-07, 6.14e-07]    []  \n",
            "1200      [5.20e-07, 3.40e-12, 9.77e-11, 2.10e-08, 2.19e-07]    [5.20e-07, 3.40e-12, 9.77e-11, 2.10e-08, 2.19e-07]    []  \n",
            "1400      [1.59e-07, 8.68e-12, 6.03e-12, 2.39e-09, 4.26e-08]    [1.59e-07, 8.68e-12, 6.03e-12, 2.39e-09, 4.26e-08]    []  \n",
            "1600      [1.05e-07, 1.07e-12, 7.28e-13, 4.46e-10, 4.11e-09]    [1.05e-07, 1.07e-12, 7.28e-13, 4.46e-10, 4.11e-09]    []  \n",
            "1800      [9.77e-08, 9.27e-14, 6.66e-13, 2.63e-10, 7.16e-11]    [9.77e-08, 9.27e-14, 6.66e-13, 2.63e-10, 7.16e-11]    []  \n",
            "2000      [9.56e-08, 6.33e-13, 8.42e-13, 2.42e-10, 6.83e-11]    [9.56e-08, 6.33e-13, 8.42e-13, 2.42e-10, 6.83e-11]    []  \n",
            "\n",
            "Best model at step 2000:\n",
            "  train loss: 9.59e-08\n",
            "  test loss: 9.59e-08\n",
            "  test metric: []\n",
            "\n",
            "'train' took 15.651041 s\n",
            "\n"
          ]
        }
      ]
    },
    {
      "cell_type": "markdown",
      "source": [
        "**graficos**\n",
        "\n",
        "Para avaliar os resultados finais, vamos definir:\n",
        "* Um vetor no eixo x para PINN variando de 0 até 1 para ser utilizado nos cálculos da PINN\n",
        "* Outro vetor no eixo x para PINN para ser utilizado para plotar valores depois\n",
        "* Um vetor no eixo x para solução exata\n",
        "* Calcular o valor adimensionalizado predito pela .\n",
        "* Calculo do valor y da PINN dimensionalizado (basta multiplicar pelo comprimento da viga).\n",
        "* Calcular o valor exato\n",
        "* Plotar os gráficos das soluções em conjunto"
      ],
      "metadata": {
        "id": "UYFmGb2qaBq1"
      }
    },
    {
      "cell_type": "code",
      "source": [
        "# Definindo X_PINN e Y_PINN\n",
        "x_pinn = np.linspace(0,1,100).reshape(-1,1)\n",
        "y_pinn = model.predict(x_pinn)\n",
        "x_pinn_dimensional = np.linspace(0,6,100).reshape(-1,1)\n",
        "y_pinn_dimensional = y_pinn*L\n",
        "\n",
        "# Calculo da solucao exata\n",
        "x_exato = np.linspace(0,6,20).reshape(-1,1)\n",
        "y_exato = func(x_exato)\n",
        "\n",
        "# Plotando a PINN vs a solucao exata\n",
        "plt.figure(figsize=(8,5))\n",
        "plt.scatter(x_exato, y_exato, label = 'Exata', color = 'blue', marker = \"o\", s = 50)\n",
        "plt.plot(x_pinn_dimensional, y_pinn_dimensional, label = 'PINN', color = \"red\", linestyle = \"--\")\n",
        "plt.xlabel(\"x\")\n",
        "plt.ylabel(\"y(x)\")\n",
        "plt.title(\"PINN vs Solucao Exata\")\n",
        "plt.legend()\n",
        "plt.grid()\n",
        "plt.show()"
      ],
      "metadata": {
        "colab": {
          "base_uri": "https://localhost:8080/",
          "height": 487
        },
        "id": "_qsP3PqEZjsF",
        "outputId": "e00d3487-4dd4-4dda-d726-02ea6d62df91"
      },
      "execution_count": null,
      "outputs": [
        {
          "output_type": "display_data",
          "data": {
            "text/plain": [
              "<Figure size 800x500 with 1 Axes>"
            ],
            "image/png": "[encoded data removed]"
          },
          "metadata": {}
        }
      ]
    },
    {
      "cell_type": "code",
      "source": [
        "# Curva da funçoes de perda da PDE, ICBCs e Total\n",
        "losses = np.array(losshistory.loss_train)\n",
        "print(np.shape(losses))\n",
        "pde_loss_plot = losses[:,0]\n",
        "icbc_loss_plot = np.array(np.sum(losses[:,1:],1))\n",
        "print(np.shape(icbc_loss_plot))\n",
        "total_loss_plot = pde_loss_plot + icbc_loss_plot"
      ],
      "metadata": {
        "colab": {
          "base_uri": "https://localhost:8080/"
        },
        "id": "9uWDCP65XxbW",
        "outputId": "acfe5a30-8555-4041-9773-b6b51318f2cd"
      },
      "execution_count": null,
      "outputs": [
        {
          "output_type": "stream",
          "name": "stdout",
          "text": [
            "(11, 5)\n",
            "(11,)\n"
          ]
        }
      ]
    },
    {
      "cell_type": "code",
      "source": [
        "plt.figure(figsize=(6,4))\n",
        "epocas = np.linspace(0,N_iter,np.size(pde_loss_plot))\n",
        "plt.plot(epocas,total_loss_plot, 'k', linewidth=2, label=\"Total\")\n",
        "plt.plot(epocas,pde_loss_plot, color='silver', linestyle='--', linewidth=2, label=\"DE loss\")\n",
        "plt.plot(epocas,icbc_loss_plot, color='r', linestyle='-.', linewidth=2, label=\"BC loss\")\n",
        "\n",
        "plt.xlabel('Epocas')\n",
        "plt.ylabel('Função de Custo')\n",
        "plt.yscale('log')\n",
        "plt.title('Historico da Função de Custo')\n",
        "plt.legend()\n",
        "plt.grid(True)\n",
        "plt.show()"
      ],
      "metadata": {
        "colab": {
          "base_uri": "https://localhost:8080/",
          "height": 410
        },
        "id": "mCu5hrO_KVj8",
        "outputId": "4c1cbf87-cca9-4f9e-df1e-5ae22bccda13"
      },
      "execution_count": null,
      "outputs": [
        {
          "output_type": "display_data",
          "data": {
            "text/plain": [
              "<Figure size 600x400 with 1 Axes>"
            ],
            "image/png": "[encoded data removed]"
          },
          "metadata": {}
        }
      ]
    },
    {
      "cell_type": "code",
      "source": [],
      "metadata": {
        "id": "fyzEOnzRKWpm"
      },
      "execution_count": null,
      "outputs": []
    }
  ]
}