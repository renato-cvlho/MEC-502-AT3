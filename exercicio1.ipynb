{
  "nbformat": 4,
  "nbformat_minor": 0,
  "metadata": {
    "colab": {
      "provenance": []
    },
    "kernelspec": {
      "name": "python3",
      "display_name": "Python 3"
    },
    "language_info": {
      "name": "python"
    }
  },
  "cells": [
    {
      "cell_type": "markdown",
      "source": [
        "# BARRA LINEAR ESTÁTICA 1D\n",
        "\n",
        "Exemplo retirado do capítulo 5 do livro do Kollmannsberger  \n",
        "**Notebook por:** Paulo de Souza Silva  \n",
        "**Notebook adaptado por:** Renato César de Carvalho\n",
        "**Data:** Julho de 2025"
      ],
      "metadata": {
        "id": "rBs16Jt7i9-v"
      }
    },
    {
      "cell_type": "markdown",
      "source": [
        "Para uma barra linear estática, podemos definir o problema de mecânica da estruturas conforme o seguinte sistema.\n",
        "\n",
        "$$\\begin{aligned}\n",
        "\\frac{d}{dx}\\left(EA \\frac{du}{dx} \\right)+ p & = 0 & \\hspace{1.5cm} \\text{em} \\ \\Omega\\\\\n",
        "EA \\frac{du}{dx} & = F & \\hspace{1.5cm} \\text{em} \\ \\Gamma_N\\\\\n",
        "u & = g  &\\hspace{1.5cm} \\text{em} \\ \\Gamma_D\n",
        "\\end{aligned}\n",
        "$$\n",
        "Em que se define\n",
        "* As condições de Neumann e Dirichlet ($\\Gamma_N$ e $\\Gamma_D$)\n",
        "* $F$ são as cargas concentradas na fronteira de $\\Gamma_N$\n",
        "* $g$ são os deslocamentos em $\\Gamma_D$\n",
        "* $E$ e $A$ são o **Módulo de Elasticidade** e a **Área da barra** e podem variar com $x$\n",
        "\n",
        "## Exemplo\n",
        "Seja uma barra definida no domínio dado por $\\Omega = [0 \\ 5]$ e parâmetros materiais aplicados como $EA = 1 N$.\n",
        "\n",
        "![Barra](https://drive.google.com/uc?export=view&id=1Qb9jPBUsaeBNFOh9sP8OJSwCw0TVGbrj)\n",
        "\n",
        "O carregamento e as condições no contorno são respectivamente:\n",
        "\n",
        "$$q(x) = Cx \\hspace{1cm} u(0) = 0 \\hspace{1cm} u(L) = \\frac{CL^3}{3EA}$$\n",
        "\n",
        "e portanto não tem carga concentrada na fronteira ($\\Gamma_N = \\emptyset$).\n",
        "Nesse caso então, a solução analítica é da forma:\n",
        "\n",
        "$$u(x) = \\frac{C}{EA} \\left(\\frac{L^2 x}{2} - \\frac{x^3}{6} \\right)$$"
      ],
      "metadata": {
        "id": "HoR7JynXjSSs"
      }
    },
    {
      "cell_type": "markdown",
      "source": [
        "### Parâmetros para resolução\n",
        "\n",
        "Nossa aproximação utilizando a técnica de PINNs será a seguinte:\n",
        "* **Não iremos** utilizar a solução analítica como dados de treino.\n",
        "* Serão considerados **20 pontos de colocação**\n",
        "* A função de ativação será a **Tangente Hiperbólica** (`Tahn`)\n",
        "* A rede terá somente **1 camada escondida** com **40 neurônios**\n",
        "* Os otimizadores a serem usados podem ser o **Adam** ou **LBFGS (Limited Memory Broyden–Fletcher–Goldfarb–Shanno)**\n",
        "\n",
        "Dessa forma, a nossa *Loss Function* pode ser escrita da seguinte forma:\n",
        "$$\\mathcal{L} = \\mathcal{L}_{EDO} + \\mathcal{L}_{ub}$$\n",
        "\n",
        "ou de forma extensa, considerando o **Erro Quadrado Médio** (MSE - *Mean Square Error*)\n",
        "\n",
        "$$\\mathcal{L} = \\sum_{i=1}^{20}\\left[\\frac{d}{dx}\\left(EA \\frac{d}{dx}u_{NN}(x_f^i) \\right) + Cx\\right]^2+ (u_{nn}(0)-u_b(0))^2+(u_{nn}(L)-u_b(L))^2$$"
      ],
      "metadata": {
        "id": "PqqzbWiesRhw"
      }
    },
    {
      "cell_type": "markdown",
      "source": [
        "### Definições Iniciais\n",
        "**bibliotecas importantes**"
      ],
      "metadata": {
        "id": "48OlT99ToZzu"
      }
    },
    {
      "cell_type": "code",
      "source": [
        "import torch\n",
        "from torch.autograd import grad\n",
        "import matplotlib.pyplot as plt\n",
        "import matplotlib\n",
        "import matplotlib.font_manager\n",
        "from matplotlib import rc\n",
        "import numpy as np\n",
        "dtype = torch.float\n",
        "device = torch.device(\"cpu\")"
      ],
      "metadata": {
        "id": "zeYWOxbhJ-2i"
      },
      "execution_count": 1,
      "outputs": []
    },
    {
      "cell_type": "markdown",
      "source": [
        "**funcao que define os pontos de colocacao no caso 1D**\n",
        "\n",
        "Definimos uma função **`generate_grid_1d`** que deve:\n",
        "* Receber o tamanho da barra ***length***\n",
        "* Receber a quantidade pontos de colocação ***samples***\n",
        "* Receber a coordenada inicial\n",
        "* Retornar os pontos de colocação no eixo\n",
        "\n",
        "**`torch.linspace`** gera os pontos no intervalo  \n",
        "**`requires_grad = True`** informa que esses pontos serão derivados futuramente  \n",
        "**`view`** define o novo formato do tensor"
      ],
      "metadata": {
        "id": "29yOXpakvxlQ"
      }
    },
    {
      "cell_type": "code",
      "execution_count": 5,
      "metadata": {
        "id": "nv-J3ggh3psV"
      },
      "outputs": [],
      "source": [
        "def generate_grid_1d(length, samples=20, initial_coordinate=0.0):\n",
        "    \"\"\"Generate an evenly space grid of a given length and a given number of samples.\"\"\"\n",
        "    # Generate the grid\n",
        "    x = torch.linspace(initial_coordinate, initial_coordinate + length, samples, requires_grad=True)\n",
        "    # Reshape on a column tensor and return\n",
        "    return x.view(samples, 1)"
      ]
    },
    {
      "cell_type": "markdown",
      "source": [
        "**funcao para calcular derivadas de ordem n com o Pytorch**\n",
        "\n",
        "Definimos uma função **`get_derivative`** que recebe:\n",
        "* A função y\n",
        "* A variável x\n",
        "* A ordem n da derivada\n",
        "\n",
        "**`grad`** comando do PyTorch para fazer a derivada  \n",
        "**`device`** tipo de ambiente usado (**CPU**, GPU ou TPU)  \n",
        "**`torch.ones`** Faz o papel de informar ao autograd como deve ser feita a relação entre as derivadas de y com relação a x  \n",
        "\n",
        "> Obs: Lembrar que Y e X não são escalares mas sim tensores\n",
        "\n",
        "**`create_graph`** informamos ao sistema que queremos a criação de um grafo para fazer operações;  \n",
        "**`retain_graph`** garante que o grafo não será apagado após o uso da operação, permitindo que a derivada seja utilizada para operações futuras."
      ],
      "metadata": {
        "id": "2v5Bx5wVwDXO"
      }
    },
    {
      "cell_type": "code",
      "source": [
        "def get_derivative(y, x, n):\n",
        "    \"\"\"Calcula a n-esima deriva de y = f(x) com respeito a x.\"\"\"\n",
        "    if n == 0:\n",
        "        return y\n",
        "    else:\n",
        "        dy_dx = grad(y, x, torch.ones(x.size()[0], 1, device=device), create_graph=True, retain_graph=True)[0]\n",
        "        return get_derivative(dy_dx, x, n - 1)"
      ],
      "metadata": {
        "id": "-t9SunCEwMOU"
      },
      "execution_count": 3,
      "outputs": []
    },
    {
      "cell_type": "markdown",
      "source": [
        "**criacao de uma modelo de rede generico**\n",
        "\n",
        "Como estamos criando nossa rede manualmente, precisamos desenvolver seu esqueleto, para isso vamos criar uma função denominada **`build_model`**, ela vai:\n",
        "\n",
        "* Receber a dimensão da variavel de entrada\n",
        "* Receber a dimensão e formato da camada escondida\n",
        "* Receber a dimensão da camada de saída\n",
        "* Retornar a arquitetura da rede\n",
        "\n",
        "Aqui devemos usar a classe `torch.nn` que tem diversas funções específicas para interligar os neurônios da rede.\n",
        "\n",
        "**`nn.Linear`**: Faz uma operação linear dentro da rede $z=Wx+b$  \n",
        "**`nn.Tahn`**: Faz uma operação com a Tangente Hiperbólica $f(z) = \\frac{e^z -e^{-z}}{e^z + e^{-z}}$  \n",
        "**`nn.Sequential`**: Container que empacota uma sequência de módulos (camadas) e os executa em ordem"
      ],
      "metadata": {
        "id": "4ljv7KBlv6rh"
      }
    },
    {
      "cell_type": "code",
      "source": [
        "def build_model(input_dimension, hidden_dimension, output_dimension):\n",
        "    \"\"\"Construção da rede neural de dimensões fornecidas.\"\"\"\n",
        "\n",
        "    modules=[]\n",
        "    modules.append(torch.nn.Linear(input_dimension, hidden_dimension[0]))\n",
        "    modules.append(torch.nn.Tanh())\n",
        "    for i in range(len(hidden_dimension)-1):\n",
        "        modules.append(torch.nn.Linear(hidden_dimension[i], hidden_dimension[i+1]))\n",
        "        modules.append(torch.nn.Tanh())\n",
        "\n",
        "    modules.append(torch.nn.Linear(hidden_dimension[-1], output_dimension))\n",
        "\n",
        "    model = torch.nn.Sequential(*modules)\n",
        "\n",
        "    return model"
      ],
      "metadata": {
        "id": "IBoRl6Fwv5j3"
      },
      "execution_count": 4,
      "outputs": []
    },
    {
      "cell_type": "markdown",
      "source": [
        "## Criacao da **Classe** PINN-Bar-Model\n",
        "\n",
        "Como nesse caso o código não pode ser quebrado, primeiro segue a explicação das **funções** que são definidas e depois o código completo.\n",
        "\n"
      ],
      "metadata": {
        "id": "xYz-YS4sxQGV"
      }
    },
    {
      "cell_type": "markdown",
      "source": [
        "### Definicoes padroes para o modelo da barra e da rede\n",
        "\n",
        "Definimos no começo da classe um construtor **`__init__`** e quais parâmetros ela recebe ou receberá.\n",
        "\n",
        "```python\n",
        "def __init__(self, E, A, L, u0, dist_load):\n",
        "  \"\"\"Construct a PhysicsInformedBar model\"\"\"\n",
        "  self.E = E                                      # Modulo de Elasticidade\n",
        "  self.A = A                                      # Area da barra\n",
        "  self.L = L                                      # Comprimento da barra\n",
        "  self.x = generate_grid_1d(L)                    # Pontos de colocacao\n",
        "  self.u0 = u0                                    # Condicoes de contorno\n",
        "  self.dist_load = dist_load                      # Carregamento na barra\n",
        "  self.model = build_model(1,[40],1)              # Definindo a estrutura da rede\n",
        "  self.EDP_loss_history = None                    # Historico da Funcao de Perda da EDO\n",
        "  self.ICBC_loss_history = None                   # Historico da Funcao de Perda das Condicoes de Contorno\n",
        "  self.total_loss_history = None                  # Historico da Funcao de Perda Total\n",
        "  self.optimizer = None                           # Otimizador\n",
        "```"
      ],
      "metadata": {
        "id": "uXoBOYvpx1bZ"
      }
    },
    {
      "cell_type": "markdown",
      "source": [
        "### Deslocamentos\n",
        "Temos que definir que o deslocamento ($u_{NN}$) nada mais é que o modelo advindo da rede para nossos pontos ($x$).\n",
        "\n",
        "```python\n",
        "def get_displacements(self, x):\n",
        "    \"\"\"Get displacements.\"\"\"\n",
        "    u = self.model(x)   # predict\n",
        "    return u\n",
        "```\n",
        "\n"
      ],
      "metadata": {
        "id": "1K5gwlokyNvw"
      }
    },
    {
      "cell_type": "markdown",
      "source": [
        "### Funcoes de Custo\n",
        "Apos obtenção do deslocamento via rede ($u_{NN}$), podemos:\n",
        "* calcular a nossa EDO\n",
        "* calcular o **MSE** referente a cada uma das parcelas de custo ($\\mathcal{L}_{EDO}$ e $\\mathcal{L}_{ub}$)\n",
        "\n",
        "Relembrando que:\n",
        "$$\\mathcal{L} = \\mathcal{L}_{EDO} + \\mathcal{L}_{ub}$$\n",
        "\n",
        "ou de forma extensa\n",
        "\n",
        "$$\\mathcal{L} = \\sum_{i=1}^{20}\\left[\\frac{d}{dx}\\left(EA \\frac{d}{dx}u_{NN}(x_f^i) \\right) + Cx\\right]^2+ (u_{nn}(0)-u_b(0))^2+(u_{nn}(L)-u_b(L))^2$$\n",
        "\n",
        "```python\n",
        "def costFunction(self, x, u_pred):\n",
        "    \"\"\"Compute the cost function.\"\"\"\n",
        "    # Differential equation loss\n",
        "    EDP = get_derivative(self.E(x) * self.A(x) * get_derivative(u_pred, x, 1), x, 1) + self.dist_load(x)\n",
        "    EDP_loss = torch.sum(EDP ** 2).view(1)\n",
        "    # Boundary condition loss initialization\n",
        "    ICBC_loss = 0\n",
        "    # Sum over dirichlet boundary condition losses\n",
        "    ICBC_loss += (u_pred[0] - self.u0[0]) ** 2\n",
        "    ICBC_loss += (u_pred[-1] - self.u0[1]) ** 2\n",
        "    return EDP_loss, ICBC_loss\n",
        "```"
      ],
      "metadata": {
        "id": "gp5B506pzG7y"
      }
    },
    {
      "cell_type": "markdown",
      "source": [
        "### Closure\n",
        "Aqui basicamente fazemos a PINN acontecer, definimos a função que:\n",
        "\n",
        "* Vai calcular os deslocamentos via rede **`get_displacements`**\n",
        "* Vai calcular a loss da PDE e das ICBCs **`costFuction`**\n",
        "* Aplica a técnica de Propagação Reversa (*back-propagation*) **`backward`**\n",
        "\n",
        "Essa mesma função é atribuída posteriormente para o **otimizador**, para que aos poucos função de perda seja minimizada\n",
        "\n",
        "> **Obs:** Note que inicialmente  ela sempre zera os gradientes acumulados do otimizador **`optimizer.zero_grad`**\n",
        "\n",
        "```python\n",
        "def closure(self):\n",
        "    \"\"\"Calculation of training error and gradient\"\"\"\n",
        "    self.optimizer.zero_grad()\n",
        "    u_pred = self.get_displacements(self.x)\n",
        "    loss = self.costFunction(self.x, u_pred)\n",
        "    loss = loss[0] + loss[1]\n",
        "    loss.backward(retain_graph=True)\n",
        "    return loss\n",
        "```"
      ],
      "metadata": {
        "id": "X3om1xEpzYay"
      }
    },
    {
      "cell_type": "markdown",
      "source": [
        "### Treino\n",
        "\n",
        "Agora é preciso treinar nosso modelo, devemos definir uma função para isso também **`train`**\n",
        "\n",
        "```python\n",
        "def train(self, epochs, print_every, optimizer='Adam', **kwargs):\n",
        "    \"\"\"Train the model.\"\"\"\n",
        "    # Definindo o Otimizador\n",
        "    if optimizer=='Adam':\n",
        "        self.optimizer = torch.optim.Adam(self.model.parameters(), **kwargs)\n",
        "    elif optimizer=='LBFGS':\n",
        "        self.optimizer = torch.optim.LBFGS(self.model.parameters(), **kwargs)\n",
        "\n",
        "    # Iniciando os vetores de Histórico\n",
        "    self.PDE_loss_history = np.zeros(epochs)\n",
        "    self.ICBC_loss_history = np.zeros(epochs)\n",
        "    self.total_loss_history = np.zeros(epochs)\n",
        "\n",
        "    # Loop de Treinamento\n",
        "    for i in range(epochs):\n",
        "        u_pred = self.get_displacements(self.x) # Prevendo Deslocamentos\n",
        "        PDE_loss, ICBC_loss = self.costFunction(self.x, u_pred) # Calculo das Funcoes de Perda\n",
        "        total_loss = PDE_loss + ICBC_loss # Perda Total\n",
        "\n",
        "        # Adicionando os valores da Perda ao histórico\n",
        "        self.PDE_loss_history[i] += PDE_loss\n",
        "        self.ICBC_loss_history[i] += ICBC_loss\n",
        "        self.total_loss_history[i] += total_loss\n",
        "\n",
        "        self.print_training_state(i, epochs, print_every) # Printando o estado de treinamento\n",
        "        self.optimizer.step(self.closure) # Atualizando os parametros\n",
        "```"
      ],
      "metadata": {
        "id": "0u4MWUg1zh1n"
      }
    },
    {
      "cell_type": "markdown",
      "source": [
        "### Prints das Loss ao longo das épocas\n",
        "\n",
        "Para visualizarmos como a função de perda da PDE, da ICBC e Total estão mudando ao longo das épocas, podemos definir um print formatado que apresente toda essa informação\n",
        "\n",
        "```python\n",
        "def print_training_state(self, epoch, epochs, print_every):\n",
        "  \"\"\"Print the loss values of the current epoch in a training loop.\"\"\"\n",
        "  if epoch == 0 or epoch == (epochs - 1) or epoch % print_every == 0 or print_every == 'all':\n",
        "      # Prepare string\n",
        "      string = \"Epoch: {}/{}\\t\\tDifferential equation loss = {:2f}\\t\\tBoundary condition loss = {:2f}\\t\\tTotal loss = {:2f}\"\n",
        "\n",
        "      # Format string and print\n",
        "      print(string.format(epoch, epochs - 1, self.PDE_loss_history[epoch],\n",
        "                          self.ICBC_loss_history[epoch], self.total_loss_history[epoch]))\n",
        "```"
      ],
      "metadata": {
        "id": "A3dVjsFszj8V"
      }
    },
    {
      "cell_type": "markdown",
      "source": [
        "### Plot do historico de treinamento para as funcoes de perda\n",
        "\n",
        "De forma semelhante, para facilitar, podemos definir uma função para fazer um gráfico específico para as funções de Perda\n",
        "\n",
        "```python\n",
        "def plot_training_history(self, yscale='log'):\n",
        "    \"\"\"Plot the training history.\"\"\"\n",
        "\n",
        "    # Set up plot\n",
        "    fig, ax = plt.subplots(figsize=(4,3))\n",
        "    ax.set_title(\"Historico da Função de Custo\")\n",
        "    ax.set_xlabel(\"Epocas\")\n",
        "    ax.set_ylabel(\"Funcao de C\")\n",
        "    plt.yscale(yscale)\n",
        "\n",
        "    # Plot data\n",
        "    ax.plot(self.total_loss_history, 'k', linewidth=2, label=\"Total\")\n",
        "    ax.plot(self.PDE_loss_history, color='silver', linestyle='--', linewidth=2, label=\"DE loss\")\n",
        "    ax.plot(self.ICBC_loss_history, color='r', linestyle='-.', linewidth=2, label=\"BC loss\")\n",
        "    ax.legend()\n",
        "    fig.tight_layout()\n",
        "    plt.show()\n",
        "```"
      ],
      "metadata": {
        "id": "Dq_X0NJDznd4"
      }
    },
    {
      "cell_type": "markdown",
      "source": [
        "## A classe completa"
      ],
      "metadata": {
        "id": "4J2tpq4SyOTQ"
      }
    },
    {
      "cell_type": "code",
      "source": [
        "class PhysicsInformedBarModel:\n",
        "    \"\"\"A class used for the definition of Physics Informed Models for one dimensional bars.\"\"\"\n",
        "\n",
        "    def __init__(self, E, A, L, u0, dist_load):\n",
        "        \"\"\"Construct a PhysicsInformedBar model\"\"\"\n",
        "\n",
        "        self.E = E                                      # Modulo de Elasticidade\n",
        "        self.A = A                                      # Area da barra\n",
        "        self.L = L                                      # Comprimento da barra\n",
        "        self.x = generate_grid_1d(L)                    # Pontos de colocacao\n",
        "        self.u0 = u0                                    # Condicoes de contorno\n",
        "        self.dist_load = dist_load                      # Carregamento na barra\n",
        "        self.model = build_model(1,[40],1)              # Definindo a estrutura da rede\n",
        "        self.EDP_loss_history = None                    # Historico da Funcao de Perda da EDO\n",
        "        self.ICBC_loss_history = None                   # Historico da Funcao de Perda das Condicoes de Contorno\n",
        "        self.total_loss_history = None                  # Historico da Funcao de Perda Total\n",
        "        self.optimizer = None                           # Otimizador\n",
        "\n",
        "    def get_displacements(self, x):\n",
        "        \"\"\"Get displacements.\"\"\"\n",
        "        u = self.model(x)   # predict\n",
        "        return u\n",
        "\n",
        "    def costFunction(self, x, u_pred):\n",
        "        \"\"\"Compute the cost function.\"\"\"\n",
        "        # Differential equation loss\n",
        "        EDP = get_derivative(self.E(x) * self.A(x) * get_derivative(u_pred, x, 1), x, 1) + self.dist_load(x)\n",
        "        EDP_loss = torch.sum(EDP ** 2).view(1)\n",
        "\n",
        "        # Boundary condition loss initialization\n",
        "        ICBC_loss = 0\n",
        "\n",
        "        # Sum over dirichlet boundary condition losses\n",
        "        ICBC_loss += (u_pred[0] - self.u0[0]) ** 2\n",
        "        ICBC_loss += (u_pred[-1] - self.u0[1]) ** 2\n",
        "\n",
        "        return EDP_loss, ICBC_loss\n",
        "\n",
        "    def closure(self):\n",
        "        \"\"\"Calculation of training error and gradient\"\"\"\n",
        "        self.optimizer.zero_grad()\n",
        "        u_pred = self.get_displacements(self.x)\n",
        "        loss = self.costFunction(self.x, u_pred)\n",
        "        loss = loss[0] + loss[1]\n",
        "        loss.backward(retain_graph=True)\n",
        "        return loss\n",
        "\n",
        "    def train(self, epochs, print_every, optimizer='Adam', **kwargs):\n",
        "        \"\"\"Train the model.\"\"\"\n",
        "\n",
        "        # Set optimizer\n",
        "        if optimizer=='Adam':\n",
        "            self.optimizer = torch.optim.Adam(self.model.parameters(), **kwargs)\n",
        "\n",
        "        elif optimizer=='LBFGS':\n",
        "            self.optimizer = torch.optim.LBFGS(self.model.parameters(), **kwargs)\n",
        "\n",
        "        # Initialize history arrays\n",
        "        self.PDE_loss_history = np.zeros(epochs)\n",
        "        self.ICBC_loss_history = np.zeros(epochs)\n",
        "        self.total_loss_history = np.zeros(epochs)\n",
        "\n",
        "        # Training loop\n",
        "        for i in range(epochs):\n",
        "            # Predict displacements\n",
        "            u_pred = self.get_displacements(self.x)\n",
        "\n",
        "            # Cost function calculation\n",
        "            PDE_loss, ICBC_loss = self.costFunction(self.x, u_pred)\n",
        "\n",
        "            # Total loss\n",
        "            total_loss = PDE_loss + ICBC_loss\n",
        "\n",
        "            # Add energy values to history\n",
        "            self.PDE_loss_history[i] += PDE_loss\n",
        "            self.ICBC_loss_history[i] += ICBC_loss\n",
        "            self.total_loss_history[i] += total_loss\n",
        "\n",
        "            # Print training state\n",
        "            self.print_training_state(i, epochs, print_every)\n",
        "\n",
        "            # Update parameters\n",
        "            self.optimizer.step(self.closure)\n",
        "\n",
        "    def print_training_state(self, epoch, epochs, print_every):\n",
        "        \"\"\"Print the loss values of the current epoch in a training loop.\"\"\"\n",
        "\n",
        "        if epoch == 0 or epoch == (epochs - 1) or epoch % print_every == 0 or print_every == 'all':\n",
        "            # Prepare string\n",
        "            string = \"Epoch: {}/{}\\t\\tDifferential equation loss = {:2f}\\t\\tBoundary condition loss = {:2f}\\t\\tTotal loss = {:2f}\"\n",
        "\n",
        "            # Format string and print\n",
        "            print(string.format(epoch, epochs - 1, self.PDE_loss_history[epoch],\n",
        "                                self.ICBC_loss_history[epoch], self.total_loss_history[epoch]))\n",
        "\n",
        "    def plot_training_history(self, yscale='log'):\n",
        "        \"\"\"Plot the training history.\"\"\"\n",
        "\n",
        "        # Set up plot\n",
        "        fig, ax = plt.subplots(figsize=(4,3))\n",
        "        ax.set_title(\"Historico da Função de Custo\")\n",
        "        ax.set_xlabel(\"Epocas\")\n",
        "        ax.set_ylabel(\"Funcao de Custo\")\n",
        "        plt.yscale(yscale)\n",
        "\n",
        "        # Plot data\n",
        "        ax.plot(self.total_loss_history, 'k', linewidth=2, label=\"Total\")\n",
        "        ax.plot(self.PDE_loss_history, color='silver', linestyle='--', linewidth=2, label=\"DE loss\")\n",
        "        ax.plot(self.ICBC_loss_history, color='r', linestyle='-.', linewidth=2, label=\"BC loss\")\n",
        "        ax.legend()\n",
        "        fig.tight_layout()\n",
        "        plt.show()\n"
      ],
      "metadata": {
        "id": "_DR7PC_g4YVl"
      },
      "execution_count": 6,
      "outputs": []
    },
    {
      "cell_type": "markdown",
      "source": [
        "**funcao para gerar o grafico comparativo entre solucao analitica e pela PINN**"
      ],
      "metadata": {
        "id": "qQx0tEPbwvCC"
      }
    },
    {
      "cell_type": "code",
      "source": [
        "matplotlib.rcParams[\"figure.dpi\"] = 150\n",
        "rc('text', usetex=False)\n",
        "\n",
        "def plot_displacements_bar(x, u, u_analytic=None):\n",
        "    \"\"\"Plot displacements.\"\"\"\n",
        "\n",
        "    # Set up plot\n",
        "    fig, ax = plt.subplots(figsize=(4,3))\n",
        "    ax.set_title(\"Deslocamentos\")\n",
        "    ax.set_xlabel(\"$x$\")\n",
        "    ax.set_ylabel(\"$u(x)$\")\n",
        "\n",
        "    # Plot da Solucao Analitica\n",
        "    if u_analytic != None:\n",
        "        ax.plot(x.detach().numpy(), u_analytic(x.detach().numpy()),color='r', linewidth=2, label=\"$u_{true}$\")\n",
        "\n",
        "    # Plot da Solucao da PINN\n",
        "    ax.plot(x.detach().numpy(), u.detach().numpy(),color='k',linestyle=':',linewidth=5, label=\"$u_{pred}$\")\n",
        "\n",
        "    ax.legend()\n",
        "    plt.show()\n",
        "    fig.tight_layout()"
      ],
      "metadata": {
        "id": "sbLjF0MtUbyA"
      },
      "execution_count": 56,
      "outputs": []
    },
    {
      "cell_type": "markdown",
      "source": [
        "# O problema resolvido com a PINN"
      ],
      "metadata": {
        "id": "OpD6KTmx1hqJ"
      }
    },
    {
      "cell_type": "code",
      "source": [
        "# Problem data\n",
        "E = lambda x: 1\n",
        "A = lambda x: 1\n",
        "L = 5\n",
        "C = 10\n",
        "x = 0 # set to zero just to calculate uL\n",
        "uL = (C * (L**3)) / (3 * E(x) * A(x))\n",
        "u0 = [0,uL]  # Dirichlet boundary conditions for both edges\n",
        "distLoad = lambda x: C*x\n",
        "\n",
        "# Gerando o modelo\n",
        "pinnModel = PhysicsInformedBarModel(E, A, L, u0, dist_load=distLoad)\n",
        "\n",
        "###########################################\n",
        "###### Treinando o modelo com LBFGS\n",
        "epochs = 400\n",
        "print_every = 10   # numero relacionado a quantidade de prints\n",
        "learningRate = 0.1\n",
        "pinnModel.train(epochs, print_every, optimizer='LBFGS', lr=learningRate)\n",
        "\n",
        "###### Treinando o modelo com ADAM\n",
        "# epochs = 400\n",
        "# print_every = 40      # numero relacionado a quantidade de prints\n",
        "# learningRate = 1e-1\n",
        "# pinnModel.train(epochs, print_every, optimizer='Adam', lr=learningRate)\n",
        "\n"
      ],
      "metadata": {
        "id": "KtJoQQdt4doE",
        "colab": {
          "base_uri": "https://localhost:8080/"
        },
        "outputId": "3a799868-92d2-43d9-8136-018a2b340931"
      },
      "execution_count": 57,
      "outputs": [
        {
          "output_type": "stream",
          "name": "stdout",
          "text": [
            "Epoch: 0/399\t\tDifferential equation loss = 17094.136719\t\tBoundary condition loss = 173243.203125\t\tTotal loss = 190337.343750\n",
            "Epoch: 10/399\t\tDifferential equation loss = 15.721265\t\tBoundary condition loss = 0.137656\t\tTotal loss = 15.858921\n",
            "Epoch: 20/399\t\tDifferential equation loss = 0.030814\t\tBoundary condition loss = 0.000061\t\tTotal loss = 0.030875\n",
            "Epoch: 30/399\t\tDifferential equation loss = 0.008779\t\tBoundary condition loss = 0.000000\t\tTotal loss = 0.008779\n",
            "Epoch: 40/399\t\tDifferential equation loss = 0.004151\t\tBoundary condition loss = 0.000001\t\tTotal loss = 0.004151\n",
            "Epoch: 50/399\t\tDifferential equation loss = 0.001837\t\tBoundary condition loss = 0.000000\t\tTotal loss = 0.001837\n",
            "Epoch: 60/399\t\tDifferential equation loss = 0.000942\t\tBoundary condition loss = 0.000000\t\tTotal loss = 0.000942\n",
            "Epoch: 70/399\t\tDifferential equation loss = 0.000789\t\tBoundary condition loss = 0.000001\t\tTotal loss = 0.000790\n",
            "Epoch: 80/399\t\tDifferential equation loss = 0.000717\t\tBoundary condition loss = 0.000000\t\tTotal loss = 0.000717\n",
            "Epoch: 90/399\t\tDifferential equation loss = 0.000716\t\tBoundary condition loss = 0.000000\t\tTotal loss = 0.000716\n",
            "Epoch: 100/399\t\tDifferential equation loss = 0.000716\t\tBoundary condition loss = 0.000000\t\tTotal loss = 0.000716\n",
            "Epoch: 110/399\t\tDifferential equation loss = 0.000715\t\tBoundary condition loss = 0.000000\t\tTotal loss = 0.000715\n",
            "Epoch: 120/399\t\tDifferential equation loss = 0.000387\t\tBoundary condition loss = 0.000000\t\tTotal loss = 0.000387\n",
            "Epoch: 130/399\t\tDifferential equation loss = 0.000289\t\tBoundary condition loss = 0.000000\t\tTotal loss = 0.000289\n",
            "Epoch: 140/399\t\tDifferential equation loss = 0.000231\t\tBoundary condition loss = 0.000000\t\tTotal loss = 0.000231\n",
            "Epoch: 150/399\t\tDifferential equation loss = 0.000148\t\tBoundary condition loss = 0.000000\t\tTotal loss = 0.000149\n",
            "Epoch: 160/399\t\tDifferential equation loss = 0.000138\t\tBoundary condition loss = 0.000000\t\tTotal loss = 0.000138\n",
            "Epoch: 170/399\t\tDifferential equation loss = 0.000136\t\tBoundary condition loss = 0.000000\t\tTotal loss = 0.000136\n",
            "Epoch: 180/399\t\tDifferential equation loss = 0.000136\t\tBoundary condition loss = 0.000000\t\tTotal loss = 0.000136\n",
            "Epoch: 190/399\t\tDifferential equation loss = 0.000136\t\tBoundary condition loss = 0.000000\t\tTotal loss = 0.000136\n",
            "Epoch: 200/399\t\tDifferential equation loss = 0.000136\t\tBoundary condition loss = 0.000000\t\tTotal loss = 0.000136\n",
            "Epoch: 210/399\t\tDifferential equation loss = 0.000136\t\tBoundary condition loss = 0.000000\t\tTotal loss = 0.000136\n",
            "Epoch: 220/399\t\tDifferential equation loss = 0.000136\t\tBoundary condition loss = 0.000000\t\tTotal loss = 0.000136\n",
            "Epoch: 230/399\t\tDifferential equation loss = 0.000136\t\tBoundary condition loss = 0.000000\t\tTotal loss = 0.000136\n",
            "Epoch: 240/399\t\tDifferential equation loss = 0.000136\t\tBoundary condition loss = 0.000000\t\tTotal loss = 0.000136\n",
            "Epoch: 250/399\t\tDifferential equation loss = 0.000136\t\tBoundary condition loss = 0.000000\t\tTotal loss = 0.000136\n",
            "Epoch: 260/399\t\tDifferential equation loss = 0.000137\t\tBoundary condition loss = 0.000000\t\tTotal loss = 0.000137\n",
            "Epoch: 270/399\t\tDifferential equation loss = 0.000136\t\tBoundary condition loss = 0.000000\t\tTotal loss = 0.000136\n",
            "Epoch: 280/399\t\tDifferential equation loss = 0.000136\t\tBoundary condition loss = 0.000000\t\tTotal loss = 0.000136\n",
            "Epoch: 290/399\t\tDifferential equation loss = 0.000137\t\tBoundary condition loss = 0.000000\t\tTotal loss = 0.000137\n",
            "Epoch: 300/399\t\tDifferential equation loss = 0.000136\t\tBoundary condition loss = 0.000000\t\tTotal loss = 0.000136\n",
            "Epoch: 310/399\t\tDifferential equation loss = 0.000136\t\tBoundary condition loss = 0.000000\t\tTotal loss = 0.000136\n",
            "Epoch: 320/399\t\tDifferential equation loss = 0.000137\t\tBoundary condition loss = 0.000000\t\tTotal loss = 0.000137\n",
            "Epoch: 330/399\t\tDifferential equation loss = 0.000136\t\tBoundary condition loss = 0.000000\t\tTotal loss = 0.000136\n",
            "Epoch: 340/399\t\tDifferential equation loss = 0.000136\t\tBoundary condition loss = 0.000000\t\tTotal loss = 0.000136\n",
            "Epoch: 350/399\t\tDifferential equation loss = 0.000136\t\tBoundary condition loss = 0.000000\t\tTotal loss = 0.000136\n",
            "Epoch: 360/399\t\tDifferential equation loss = 0.000136\t\tBoundary condition loss = 0.000000\t\tTotal loss = 0.000136\n",
            "Epoch: 370/399\t\tDifferential equation loss = 0.000136\t\tBoundary condition loss = 0.000000\t\tTotal loss = 0.000136\n",
            "Epoch: 380/399\t\tDifferential equation loss = 0.000136\t\tBoundary condition loss = 0.000000\t\tTotal loss = 0.000136\n",
            "Epoch: 390/399\t\tDifferential equation loss = 0.000136\t\tBoundary condition loss = 0.000000\t\tTotal loss = 0.000136\n",
            "Epoch: 399/399\t\tDifferential equation loss = 0.000136\t\tBoundary condition loss = 0.000000\t\tTotal loss = 0.000136\n"
          ]
        }
      ]
    },
    {
      "cell_type": "code",
      "source": [
        "# Test data\n",
        "samples = 100\n",
        "x_test = generate_grid_1d(L, samples)\n",
        "u_test = pinnModel.get_displacements(x_test)\n",
        "\n",
        "# Solução Analitica\n",
        "u_analytic = lambda x: (C/(E(x)*A(x)))*((((L**2)*x)/2)-((x**3)/6))\n",
        "\n",
        "# Plot displacements\n",
        "plot_displacements_bar(x_test, u_test, u_analytic)\n",
        "\n",
        "# Plot training history\n",
        "pinnModel.plot_training_history()"
      ],
      "metadata": {
        "id": "o481CYIKY0Le",
        "colab": {
          "base_uri": "https://localhost:8080/",
          "height": 922
        },
        "outputId": "8663d4bf-c53c-4047-8bcd-103e3cc23afd"
      },
      "execution_count": 58,
      "outputs": [
        {
          "output_type": "display_data",
          "data": {
            "text/plain": [
              "<Figure size 600x450 with 1 Axes>"
            ],
            "image/png": "[encoded data removed]"
          },
          "metadata": {}
        },
        {
          "output_type": "display_data",
          "data": {
            "text/plain": [
              "<Figure size 600x450 with 1 Axes>"
            ],
            "image/png": "[encoded data removed]"
          },
          "metadata": {}
        }
      ]
    },
    {
      "cell_type": "code",
      "source": [
        "# filename = \"displacements_bar_pinn\"\n",
        "# plt.savefig(filename + \".eps\")\n",
        "# plt.savefig(filename + \".png\")\n",
        "\n",
        "# filename = \"training_history_bar_pinn\"\n",
        "# plt.savefig(filename + \".eps\")\n",
        "# plt.savefig(filename + \".png\")"
      ],
      "metadata": {
        "id": "EPOL-cOgSGMc"
      },
      "execution_count": null,
      "outputs": []
    }
  ]
}