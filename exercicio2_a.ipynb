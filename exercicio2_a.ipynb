{
  "nbformat": 4,
  "nbformat_minor": 0,
  "metadata": {
    "colab": {
      "provenance": []
    },
    "kernelspec": {
      "name": "python3",
      "display_name": "Python 3"
    },
    "language_info": {
      "name": "python"
    }
  },
  "cells": [
    {
      "cell_type": "markdown",
      "source": [
        "# Viga de Euler-Bernoulli\n",
        "\n",
        "Exemplo baseado na documentação e em livros de Mecânica do Sólidos  \n",
        "**Notebook por:** Paulo de Souza Silva  \n",
        "**Data:** Julho de 2025  \n",
        "**Notebook modificado por:** Renato Cesar de Carvalho\n"
      ],
      "metadata": {
        "id": "37_lIK8dk0py"
      }
    },
    {
      "cell_type": "markdown",
      "source": [
        "**IGNORE ESTE CÓDIGO INICIAL**\n",
        "\n",
        "* Se a figura da viga não aparecer, basta rodá-lo.\n"
      ],
      "metadata": {
        "id": "im18bSN9k6FC"
      }
    },
    {
      "cell_type": "code",
      "source": [
        "import requests\n",
        "from PIL import Image\n",
        "from io import BytesIO\n",
        "\n",
        "file_id = '1RE3dXUdSqu2zU_j37et4TX5VGG207gUQ'\n",
        "url = f'https://drive.google.com/uc?export=view&id={file_id}'\n",
        "\n",
        "response = requests.get(url)\n",
        "img = Image.open(BytesIO(response.content))\n",
        "\n",
        "new_size = (400, 300)  # (largura, altura) em pixels\n",
        "img_resized = img.resize(new_size)\n",
        "\n",
        "display(img_resized)"
      ],
      "metadata": {
        "colab": {
          "base_uri": "https://localhost:8080/",
          "height": 317
        },
        "id": "k26KsA5VsQ8O",
        "outputId": "b8b36c13-0b45-485a-ee8e-d3c47f73cee6"
      },
      "execution_count": null,
      "outputs": [
        {
          "output_type": "display_data",
          "data": {
            "text/plain": [
              "<PIL.Image.Image image mode=RGBA size=400x300>"
            ],
            "image/png": "[encoded data removed]"
          },
          "metadata": {}
        }
      ]
    },
    {
      "cell_type": "markdown",
      "source": [
        "## Obtenção da Solução Analítica\n",
        "\n",
        "A viga engastada com carga distribuída é um problema comum da formulação de Euler-Bernoulli, cujo o formalismo matemático (Gere,2003; Beer, 2017) pode ser expresso por:\n",
        "\n",
        "$$EI\\frac{d^4y}{dx^4} = - w(x)$$\n",
        "\n",
        "considerando o carregamento para baixo **positivo**.\n",
        "\n",
        "Por ser uma equação diferencial de quarta ordem a mesma exige quatro condições para ser resolvida.\n",
        "\n",
        "Das considerações de **força cortante** e **momento fletor**, temos que **nessa configuração da Figura**:\n",
        "$$V(x) = p \\hspace{2cm} M(x) = -px$$\n",
        "\n",
        "Para o formalismo adotado, temos que:\n",
        "$$EI\\frac{d^3y}{dx^3} = V(x) \\hspace{2cm} EI\\frac{d^2y}{dx^2} = M(x)$$\n",
        "\n",
        "Com isso em mente, podemos resolver a EDO de quarta ordem, basta aplicarmos uma integral quatro vezes e depois considerar as condições.\n",
        "\n"
      ],
      "metadata": {
        "id": "mZE6PuxKum9m"
      }
    },
    {
      "cell_type": "markdown",
      "source": [
        "### Calculation of equation of the elastic curve\n",
        "\n",
        "$$EIy'' = M(x) = -p(L-x)=-pL+px$$\n",
        "$$EIy' = \\frac{px^2}{2}-pLx+C_1$$\n",
        "$$y' = 0 \\hspace{0.5cm} at \\hspace{0.5cm} x = 0$$\n",
        "$$EI0 = \\frac{p0^2}{2}-pL0+C_1$$\n",
        "$$C_1=0$$\n",
        "$$EIy' = \\frac{px^2}{2}-pLx$$\n",
        "$$EIy = \\frac{px^3}{6}-\\frac{pLx^2}{2}+C_2$$\n",
        "$$y = 0 \\hspace{0.5cm} at \\hspace{0.5cm} x = 0$$\n",
        "$$EI0 = \\frac{p0^3}{6}-\\frac{pL0^2}{2}+C_2$$\n",
        "$$C_2=0$$\n",
        "$$EIy = \\frac{px^3}{6}-\\frac{pLx^2}{2}$$\n",
        "$$y = \\frac{px^3}{6EI}-\\frac{pLx^2}{2EI} = \\frac{p}{6EI}(x^3 - 3Lx^2)$$"
      ],
      "metadata": {
        "id": "TlntlBkO6lf6"
      }
    },
    {
      "cell_type": "markdown",
      "source": [
        "> **Obs:** É preciso ter muito cuidado com relação aos sinais (que devem ser adotados de maneira coerente), em algumas literaturas  é possível encontrar:\n",
        "$$EI\\frac{d^4y}{dx^4} = w(x)$$\n",
        "nesse caso, assume-se que o carregamento para baixo é **negativo**"
      ],
      "metadata": {
        "id": "_WFtSHDa3obO"
      }
    },
    {
      "cell_type": "markdown",
      "source": [
        "**referências**  \n",
        "Beer, F., E. Johnston, J. DeWolf and D. Mazurek. Mechanics of Materials, 7e in SI Units. Stress 1.11 (2017): 1-12.  \n",
        "Gere, J. M. Mecânica dos Materiais, Editora Thomson Learning. 2003."
      ],
      "metadata": {
        "id": "pBOEIM7R2PvT"
      }
    },
    {
      "cell_type": "markdown",
      "source": [
        "## Resolução da Viga com DeepXDE"
      ],
      "metadata": {
        "id": "6uCtUwDf5n2J"
      }
    },
    {
      "cell_type": "markdown",
      "source": [
        "**instalar o DeepXDE no Colab**\n",
        "\n",
        "[Installation DeepXDE](https://deepxde.readthedocs.io/en/latest/user/installation.html)\n",
        "\n",
        "* Para instalar no Colab, usamos antes do `pip` o símbolo `!`\n",
        "* Para a célula ficar limpa ao fim da instalação adicionamos o `-q` entre o `install` e o nome da biblioteca"
      ],
      "metadata": {
        "id": "0zra6PvpYmqV"
      }
    },
    {
      "cell_type": "code",
      "execution_count": null,
      "metadata": {
        "id": "eJ3OQD4eXorE",
        "colab": {
          "base_uri": "https://localhost:8080/"
        },
        "outputId": "d8c4a208-9fe2-4c2e-a28b-1e6008a48ecb"
      },
      "outputs": [
        {
          "output_type": "stream",
          "name": "stdout",
          "text": [
            "\u001b[?25l   \u001b[90m━━━━━━━━━━━━━━━━━━━━━━━━━━━━━━━━━━━━━━━━\u001b[0m \u001b[32m0.0/194.2 kB\u001b[0m \u001b[31m?\u001b[0m eta \u001b[36m-:--:--\u001b[0m\r\u001b[2K   \u001b[90m━━━━━━━━━━━━━━━━━━━━━━━━━━━━━━━━━━━━━━━━\u001b[0m \u001b[32m194.2/194.2 kB\u001b[0m \u001b[31m10.6 MB/s\u001b[0m eta \u001b[36m0:00:00\u001b[0m\n",
            "\u001b[?25h\u001b[?25l   \u001b[90m━━━━━━━━━━━━━━━━━━━━━━━━━━━━━━━━━━━━━━━━\u001b[0m \u001b[32m0.0/107.8 kB\u001b[0m \u001b[31m?\u001b[0m eta \u001b[36m-:--:--\u001b[0m\r\u001b[2K   \u001b[90m━━━━━━━━━━━━━━━━━━━━━━━━━━━━━━━━━━━━━━━━\u001b[0m \u001b[32m107.8/107.8 kB\u001b[0m \u001b[31m6.7 MB/s\u001b[0m eta \u001b[36m0:00:00\u001b[0m\n",
            "\u001b[?25h"
          ]
        }
      ],
      "source": [
        "! pip install -q deepxde"
      ]
    },
    {
      "cell_type": "markdown",
      "source": [
        "**bibliotecas principais**\n",
        "\n",
        "* Aqui chamamos as bibliotecas principais que são padrões como `numpy` e o `matplotlib`\n",
        "* Além delas, é claro, vamos chamar o `deepxde`; como ele tem como backends o `tensorflow, pytorch, jax` e o `paddle` uma dessas também tem que ser chamada, escolheremos o pytorch.\n",
        "* Devemos dizer ao DeepXDE que o pytorch será nosso backend e usamos o comando `backend.backend_name`"
      ],
      "metadata": {
        "id": "H-IVa6e5YtEI"
      }
    },
    {
      "cell_type": "code",
      "source": [
        "import numpy as np\n",
        "import matplotlib.pyplot as plt\n",
        "import deepxde as dde\n",
        "import torch\n",
        "dde.backend.backend_name = \"pytorch\""
      ],
      "metadata": {
        "id": "40fRT4m6YfgT",
        "collapsed": true,
        "colab": {
          "base_uri": "https://localhost:8080/"
        },
        "outputId": "82f24602-07b1-41e6-c6b1-688d857b14d6"
      },
      "execution_count": null,
      "outputs": [
        {
          "output_type": "stream",
          "name": "stdout",
          "text": [
            "No backend selected.\n",
            "Finding available backend...\n"
          ]
        },
        {
          "output_type": "stream",
          "name": "stderr",
          "text": [
            "Using backend: tensorflow.compat.v1\n",
            "Other supported backends: tensorflow, pytorch, jax, paddle.\n",
            "paddle supports more examples now and is recommended.\n",
            "WARNING:tensorflow:From /usr/local/lib/python3.11/dist-packages/tensorflow/python/compat/v2_compat.py:98: disable_resource_variables (from tensorflow.python.ops.resource_variables_toggle) is deprecated and will be removed in a future version.\n",
            "Instructions for updating:\n",
            "non-resource variables are not supported in the long term\n"
          ]
        },
        {
          "output_type": "stream",
          "name": "stdout",
          "text": [
            "Found tensorflow.compat.v1\n",
            "Setting the default backend to \"tensorflow.compat.v1\". You can change it in the ~/.deepxde/config.json file or export the DDE_BACKEND environment variable. Valid options are: tensorflow.compat.v1, tensorflow, pytorch, jax, paddle (all lowercase)\n"
          ]
        }
      ]
    },
    {
      "cell_type": "markdown",
      "source": [
        "**parâmetros do problema**"
      ],
      "metadata": {
        "id": "Eryt5binADvw"
      }
    },
    {
      "cell_type": "code",
      "source": [
        "# Updated parameters with consistent units and force in MN, E in MN/m²\n",
        "L = 3  # meters (m)\n",
        "E = 2.1e8  # kilonewtons per square meter (kN/m²)\n",
        "I = 6.51e-5  # meters to the fourth (m^4)\n",
        "p = 16  # kilonewtons (kN)\n",
        "EI=E*I\n",
        "w = 0"
      ],
      "metadata": {
        "id": "jz4ihuGiQU7o"
      },
      "execution_count": null,
      "outputs": []
    },
    {
      "cell_type": "markdown",
      "source": [
        "**solucao analitica**"
      ],
      "metadata": {
        "id": "uplLwm7nj8E_"
      }
    },
    {
      "cell_type": "code",
      "source": [
        "def func(x):\n",
        "    term_1 = (p * (x ** 3)) / (6 * E * I)\n",
        "    term_2 = (p * L * (x ** 2)) / (2 * E * I)\n",
        "    return term_1 - term_2\n",
        "\n",
        "# Verifique a solução exata para x = 300 cm\n",
        "x_test = 3\n",
        "y_exact = func(x_test)\n",
        "print(\"Solução exata para x = 3 m:\", y_exact)\n"
      ],
      "metadata": {
        "id": "AvP_NzrQZWsW",
        "colab": {
          "base_uri": "https://localhost:8080/"
        },
        "outputId": "fe1145bc-ecd9-41e4-ec07-0e699a2a9797"
      },
      "execution_count": null,
      "outputs": [
        {
          "output_type": "stream",
          "name": "stdout",
          "text": [
            "Solução exata para x = 3 m: -0.010533245556287032\n"
          ]
        }
      ]
    },
    {
      "cell_type": "markdown",
      "source": [
        "**Definindo o Intervalo**\n",
        "\n",
        "Como temos um problema 1D, podemos definir o intervalo com auxílio da **classe** `geometry`\n",
        "* `geometry.geometry_1d.Interval(l,r)`\n",
        "\n",
        "em que l é o valor a esquerda e r o valor a direita (no nosso caso a origem até o comprimento da viga)"
      ],
      "metadata": {
        "id": "WnR7KvDdOHX7"
      }
    },
    {
      "cell_type": "code",
      "source": [
        "geom = dde.geometry.geometry_1d.Interval(0, L)"
      ],
      "metadata": {
        "id": "Y5SXmTweY7O1"
      },
      "execution_count": null,
      "outputs": []
    },
    {
      "cell_type": "markdown",
      "source": [
        "### Derivadas Uteis e Definicao da EDO do problema\n",
        "\n",
        "Como estamos usando o Pytorch, podemos fazer as derivadas considerando o uso da classe `grad` (remete a gradiente e as funções autograd, internas as bibliotecas como o próprio Pytorch, TensorFlow etc)\n",
        "\n",
        "A estratégia é, calcular a derivada segunda e a derivada terceira em um primeiro momento, para serem usadas nas condições de contorno.\n",
        "\n",
        "Para isso usamos as opções `grad.hessian` e `grad.jacobian`\n",
        "\n",
        "> **1. JACOBIANO**\n",
        "* Para um função escalar $f(x)$, o Jacobiano é simplemente a **primeira derivada** com respeito a variável  \n",
        "$$\\frac{df}{dx}$$\n",
        "* Para um função multivariável $f(x,y)$ em 2D, o Jacobiano é um vetor de derivadas parciais com relação a cada variável.  \n",
        "$$J = \\begin{bmatrix}\n",
        "\\frac{\\partial f}{\\partial x} \\\\\n",
        "\\frac{\\partial f}{\\partial y}\n",
        "\\end{bmatrix}$$\n",
        "\n",
        "> **2. HESSIANO**\n",
        "* O Hessiano é uma matriz de derivadas parciais de segunda ordem;\n",
        "* Para um função escalar $f(x)$ em 1D, é apenas a **segunda derivada** com respeito a $x$.\n",
        "$$\\frac{d^2f}{dx^2}$$\n",
        "* Para um função multivariável $f(x,y)$ em 2D, é uma matriz que inclui todos derivaradas de segunda ordem possível.\n",
        "$$H = \\begin{bmatrix}\n",
        "\\frac{\\partial^2f}{\\partial x^2} & \\frac{\\partial ^2f}{\\partial x \\partial y} \\\\\n",
        "\\frac{\\partial^2f}{\\partial y \\partial x} & \\frac{\\partial^2f}{\\partial y^2}\n",
        "\\end{bmatrix}$$\n",
        "\n",
        "**Ver vídeo:** [DeepXDE Tutorial 2](https://youtu.be/Nsf5bmI54oc?si=gkTdPnNFhr7ZWYDi)\n",
        "\n",
        "Uma estratégia similar decorre para a EDO do nosso problema, que tem derivada de 4 ordem."
      ],
      "metadata": {
        "id": "K9ersD6Cjdee"
      }
    },
    {
      "cell_type": "code",
      "source": [
        "# Derivadas de Ordem 2\n",
        "def ddy(x, y):\n",
        "    return dde.grad.hessian(y, x)\n",
        "\n",
        "# Derivada de Ordem 1 da Derivada de Ordem 2 (3 Derivada)\n",
        "def dddy(x, y):\n",
        "    return dde.grad.jacobian(ddy(x, y), x)\n",
        "\n",
        "def ddddy(x, y):\n",
        "    # Chamando a funcao da derivada segunda\n",
        "    dy_xx = ddy(x, y)\n",
        "    return dde.grad.hessian(dy_xx, x)"
      ],
      "metadata": {
        "id": "f4s4yt35ZOaC"
      },
      "execution_count": null,
      "outputs": []
    },
    {
      "cell_type": "code",
      "source": [
        "# Definicao da EDO do problema\n",
        "def pde(x, y):\n",
        "    d2y_dx = ddy(x, y)\n",
        "    return (d2y_dx+(p*(L-x))/(E*I))"
      ],
      "metadata": {
        "id": "DwGK-u0gZQdY"
      },
      "execution_count": null,
      "outputs": []
    },
    {
      "cell_type": "markdown",
      "source": [
        "### Condições de Contorno\n",
        "\n",
        "Como estamos trabalhando em um problema 1D, os pontos de teste que usamos são sempre conferidos somente **um de cada vez** tornando-se **um ponto** do domínio, logo:\n",
        "* Se estamos olhando **na esquerda do domínio** `x[0]`$\\approx$ `0`\n",
        "* Se estamos olhando **na direita do domínio** `x[0]`$\\approx$ `L`\n",
        "\n",
        "Se o dominio fosse bi-dimensional, **cada ponto** teria **duas coordendas** `x[0]` e `x[1]`\n",
        "\n",
        "Dessa forma e pra evitar erros numéricos, podemos definir que:\n",
        "* o contorno a esquerda (`boundary_l`) e\n",
        "* a direita (`boundary_r`)\n",
        "\n",
        "podem ser definidos como segue, em que retornam um valor verdadeiro para:\n",
        "* `x[0]` próximo a zero e\n",
        "* `x[0]` próximo a L.\n",
        "\n",
        "Já o `on_boundary` é um **booleano** que o próprio DeepXDE vai definir para que a avaliação seja de fato feita **somente na fronteira**."
      ],
      "metadata": {
        "id": "ch-RRh2RjMQW"
      }
    },
    {
      "cell_type": "code",
      "source": [
        "def boundary_l(x, on_boundary):\n",
        "    return on_boundary and dde.utils.isclose(x[0], 0)\n",
        "\n",
        "def boundary_r(x, on_boundary):\n",
        "    return on_boundary and dde.utils.isclose(x[0], L)"
      ],
      "metadata": {
        "id": "WhHRRjEPZSYB"
      },
      "execution_count": null,
      "outputs": []
    },
    {
      "cell_type": "markdown",
      "source": [
        "Seguindo com relação as condições de contorno, como definidos de fato quais pontos são nas fronteiras, podemos declarar as quatro condições:\n",
        "* bc1 - $y$ em x = 0 deve ser nula (**condição de Dirichlet**)\n",
        "* bc2 - $dy/dx$ em x = 0 deve ser nula (**condição de Neumann**)\n",
        "\n",
        "* Para bc1 e bc2 existem duas classes específicas **`icbc.DirichletBC`** e **`icbc.NeumannBC`**."
      ],
      "metadata": {
        "id": "Jmlwahyya0xe"
      }
    },
    {
      "cell_type": "code",
      "source": [
        "bc1 = dde.icbc.DirichletBC(geom, lambda x: 0, boundary_l)\n",
        "bc2 = dde.icbc.NeumannBC(geom, lambda x: 0, boundary_l)"
      ],
      "metadata": {
        "id": "6j9ZSNhrZabe"
      },
      "execution_count": null,
      "outputs": []
    },
    {
      "cell_type": "markdown",
      "source": [
        "### Dados para o DeepXDE\n",
        "[Modulo data.pde](https://deepxde.readthedocs.io/en/latest/modules/deepxde.data.html#module-deepxde.data.pde)\n",
        "\n",
        "Agora que temos a nossa equação diferencial e as condições de contorno, definimos o conjunto de **\"dados\"** para nossa rede, na ocasião devemos usar o módulo `data.PDE` dentro dele chamamos e definimos:\n",
        "* `geometry` - geometria\n",
        "* `pde` - equação diferencial\n",
        "* `bcs` - as condições de contorno\n",
        "* `num_domain` número inteiro de pontos dentro do domínio para o **treinamento**\n",
        "* `num_boundary` número inteiro de pontos de **treino** na fronteira\n",
        "* `num_test` número inteiro de pontos de **teste**\n",
        "\n",
        "Outras coisas podem ser definidas, como: **tipo de distribuição** para os dados de treinamento, dados de uma **solução de referência** etc"
      ],
      "metadata": {
        "id": "WPIka9ZhkUm0"
      }
    },
    {
      "cell_type": "code",
      "source": [
        "data = dde.data.PDE(\n",
        "    geom,\n",
        "    pde,\n",
        "    [bc1, bc2],\n",
        "    num_domain=50,\n",
        "    num_boundary=4,\n",
        "    solution=func,\n",
        "    num_test=100,\n",
        ")"
      ],
      "metadata": {
        "id": "pyHz01ReZcbk"
      },
      "execution_count": null,
      "outputs": []
    },
    {
      "cell_type": "code",
      "source": [
        "# data = dde.data.PDE(\n",
        "#     geom,\n",
        "#     pde,\n",
        "#     [bc1, bc2, bc3, bc4],\n",
        "#     num_domain=10,\n",
        "#     num_boundary=2,\n",
        "#     solution=func,\n",
        "#     num_test=100,\n",
        "# )"
      ],
      "metadata": {
        "id": "IM5UP9EjmSL1"
      },
      "execution_count": null,
      "outputs": []
    },
    {
      "cell_type": "markdown",
      "source": [
        "### Criação da Rede\n",
        "[PytorchFNN](https://deepxde.readthedocs.io/en/latest/modules/deepxde.nn.pytorch.html#module-deepxde.nn.pytorch.fnn)\n",
        "\n",
        "Agora, precisamos definir o **formato** da nossa rede, sua **função de ativação**, o **tipo de inicializador** dos pesos e vieses etc:\n",
        "\n",
        "* Vamos adotar **1 entrada**, **1 saída** e **3 camadas ocultas** com **20 neurônios**\n",
        "* rede Fully-Connected (FNN)\n",
        "* Nossa função de ativação será a **tangente hiperbólica `tanh`**\n",
        "* A função de inicialização de pesos será a **`Glorot uniform`**"
      ],
      "metadata": {
        "id": "-2FGMvdDkcbd"
      }
    },
    {
      "cell_type": "code",
      "source": [
        "layer_size = [1] + [50] * 3 + [1]\n",
        "activation = \"tanh\"\n",
        "initializer = \"Glorot uniform\"\n",
        "net = dde.nn.FNN(layer_size, activation, initializer)"
      ],
      "metadata": {
        "id": "4H3DxPXBZeoF"
      },
      "execution_count": null,
      "outputs": []
    },
    {
      "cell_type": "markdown",
      "source": [
        "### Modelo e Otimização\n",
        "Com os **dados** e o **formato da rede definidos**, montamos nosso **modelo** e colocamos ele para **otimizar/treinar**.\n",
        "\n",
        "* Para definir o modelo usamos o **classe** `Model(data,net)`\n",
        "* A esse modelo definimos configurações para o treino como:\n",
        "  * **Otimizador:** (Adam, BFGS)\n",
        "  * **Taxa de aprendizado** (*lr*)\n",
        "  * **metricas:** são métricas desejadas para serem calculadas durante o treino, pode ser usada quando existem dados iniciais\n",
        "\n",
        "Com esses parâmetros definidos, podemos treinar o modelo, sendo possível definir:\n",
        "* `iterations`: número de iterações (épocas)\n",
        "* `batch_size`:\n",
        "* `display_every`: a cada quantas épocas deve ser printado o avanço (padrão é 1000)  \n",
        "\n",
        "Como retorno tem *losshistory* e *train_state*"
      ],
      "metadata": {
        "id": "YPXtlJiWkfBq"
      }
    },
    {
      "cell_type": "code",
      "source": [
        "model = dde.Model(data, net)\n",
        "model.compile(\"adam\", lr=0.001, metrics=[\"l2 relative error\"])\n",
        "#model.compile(\"adam\", lr=0.001)\n",
        "N_iter = 5000\n",
        "step = 200\n",
        "losshistory, train_state = model.train(iterations=N_iter,display_every=step)"
      ],
      "metadata": {
        "colab": {
          "base_uri": "https://localhost:8080/"
        },
        "id": "nvH0Rdq4Zg3H",
        "outputId": "c6a70e53-0b8d-4aed-c128-0a008b8d6b78"
      },
      "execution_count": null,
      "outputs": [
        {
          "output_type": "stream",
          "name": "stdout",
          "text": [
            "Compiling model...\n",
            "Building feed-forward neural network...\n",
            "'build' took 0.077760 s\n",
            "\n",
            "'compile' took 0.613264 s\n",
            "\n",
            "Training model...\n",
            "\n",
            "Step      Train loss                        Test loss                         Test metric   \n",
            "0         [1.48e-02, 0.00e+00, 1.72e-01]    [1.56e-02, 0.00e+00, 1.72e-01]    [1.01e+02]    \n",
            "200       [5.67e-07, 2.48e-10, 1.76e-08]    [5.56e-07, 2.48e-10, 1.76e-08]    [9.55e-02]    \n",
            "400       [1.51e-08, 5.01e-14, 9.69e-12]    [1.55e-08, 5.01e-14, 9.69e-12]    [1.40e-02]    \n",
            "600       [9.61e-09, 8.74e-15, 1.54e-12]    [8.80e-09, 8.74e-15, 1.54e-12]    [1.05e-02]    \n",
            "800       [8.43e-09, 4.84e-16, 3.49e-13]    [6.84e-09, 4.84e-16, 3.49e-13]    [8.82e-03]    \n",
            "1000      [8.16e-09, 7.89e-15, 1.83e-14]    [6.29e-09, 7.89e-15, 1.83e-14]    [8.12e-03]    \n",
            "1200      [8.01e-09, 8.34e-16, 5.27e-14]    [6.10e-09, 8.34e-16, 5.27e-14]    [7.89e-03]    \n",
            "1400      [7.86e-09, 2.27e-14, 6.72e-15]    [5.98e-09, 2.27e-14, 6.72e-15]    [7.72e-03]    \n",
            "1600      [7.73e-09, 6.97e-11, 2.95e-14]    [5.93e-09, 6.97e-11, 2.95e-14]    [8.90e-03]    \n",
            "1800      [8.68e-09, 3.64e-07, 3.80e-13]    [8.22e-09, 3.64e-07, 3.80e-13]    [1.04e-01]    \n",
            "2000      [7.46e-09, 6.54e-14, 2.24e-14]    [5.75e-09, 6.54e-14, 2.24e-14]    [7.50e-03]    \n",
            "2200      [7.35e-09, 8.55e-13, 3.31e-15]    [5.70e-09, 8.55e-13, 3.31e-15]    [7.57e-03]    \n",
            "2400      [7.32e-09, 1.87e-08, 3.03e-13]    [5.52e-09, 1.87e-08, 3.03e-13]    [3.13e-02]    \n",
            "2600      [7.15e-09, 4.81e-12, 4.66e-14]    [5.56e-09, 4.81e-12, 4.66e-14]    [7.59e-03]    \n",
            "2800      [7.06e-09, 5.91e-13, 1.09e-14]    [5.52e-09, 5.91e-13, 1.09e-14]    [7.12e-03]    \n",
            "3000      [6.98e-09, 1.82e-09, 1.14e-15]    [5.62e-09, 1.82e-09, 1.14e-15]    [5.06e-03]    \n",
            "3200      [6.89e-09, 1.06e-14, 1.19e-15]    [5.41e-09, 1.06e-14, 1.19e-15]    [7.03e-03]    \n",
            "3400      [6.81e-09, 8.06e-12, 6.98e-14]    [5.38e-09, 8.06e-12, 6.98e-14]    [6.73e-03]    \n",
            "3600      [6.92e-09, 5.40e-08, 2.17e-11]    [5.14e-09, 5.40e-08, 2.17e-11]    [4.93e-02]    \n",
            "3800      [6.66e-09, 2.40e-15, 2.76e-13]    [5.27e-09, 2.40e-15, 2.76e-13]    [6.78e-03]    \n",
            "4000      [6.59e-09, 1.56e-11, 5.85e-13]    [5.22e-09, 1.56e-11, 5.85e-13]    [6.12e-03]    \n",
            "4200      [2.59e-08, 3.02e-09, 3.95e-07]    [2.51e-08, 3.02e-09, 3.95e-07]    [1.65e-01]    \n",
            "4400      [6.06e-06, 3.97e-06, 7.54e-05]    [6.41e-06, 3.97e-06, 7.54e-05]    [2.45e+00]    \n",
            "4600      [6.89e-09, 1.30e-14, 3.94e-13]    [5.12e-09, 1.30e-14, 3.94e-13]    [7.13e-03]    \n",
            "4800      [7.83e-08, 5.66e-10, 1.01e-06]    [7.94e-08, 5.66e-10, 1.01e-06]    [2.62e-01]    \n",
            "5000      [7.54e-09, 6.83e-13, 5.90e-13]    [5.42e-09, 6.83e-13, 5.90e-13]    [7.50e-03]    \n",
            "\n",
            "Best model at step 4000:\n",
            "  train loss: 6.60e-09\n",
            "  test loss: 5.24e-09\n",
            "  test metric: [6.12e-03]\n",
            "\n",
            "'train' took 8.635093 s\n",
            "\n"
          ]
        }
      ]
    },
    {
      "cell_type": "markdown",
      "source": [
        "**graficos**\n",
        "\n",
        "Para avaliar os resultados finais, vamos definir:\n",
        "* Um vetor no eixo x para PINN\n",
        "* Um vetor no eixo x para solução exata\n",
        "* Calcular o valor predito pela PINN\n",
        "* Calcular o valor exato\n",
        "* Plotar os gráficos das soluções em conjunto"
      ],
      "metadata": {
        "id": "UYFmGb2qaBq1"
      }
    },
    {
      "cell_type": "code",
      "source": [
        "## Definindo X_PINN e Y_PINN\n",
        "x_pinn = np.linspace(0,3,100).reshape(-1,1)\n",
        "y_pinn = model.predict(x_pinn)\n",
        "\n",
        "# Calculo da solucao exata\n",
        "x_exato = np.linspace(0,3,20).reshape(-1,1)\n",
        "y_exato = func(x_exato)\n",
        "\n",
        "# Plotando a PINN vs a solucao exata\n",
        "plt.figure(figsize=(8,5))\n",
        "plt.scatter(x_exato, y_exato, label = 'Exata', color = 'blue', marker = \"o\", s = 50)\n",
        "plt.plot(x_pinn, y_pinn, label = 'PINN', color = \"red\", linestyle = \"--\")\n",
        "plt.xlabel(\"x\")\n",
        "plt.ylabel(\"y(x)\")\n",
        "plt.title(\"PINN vs Solucao Exata\")\n",
        "plt.legend()\n",
        "plt.grid()\n",
        "plt.show()"
      ],
      "metadata": {
        "colab": {
          "base_uri": "https://localhost:8080/",
          "height": 487
        },
        "id": "_qsP3PqEZjsF",
        "outputId": "da94d552-179d-434d-83a1-e696468362c6"
      },
      "execution_count": null,
      "outputs": [
        {
          "output_type": "display_data",
          "data": {
            "text/plain": [
              "<Figure size 800x500 with 1 Axes>"
            ],
            "image/png": "[encoded data removed]"
          },
          "metadata": {}
        }
      ]
    },
    {
      "cell_type": "code",
      "source": [
        "# Curva da funçoes de perda da PDE, ICBCs e Total\n",
        "losses = np.array(losshistory.loss_train)\n",
        "print(np.shape(losses))\n",
        "pde_loss_plot = losses[:,0]\n",
        "icbc_loss_plot = np.array(np.sum(losses[:,1:],1))\n",
        "print(np.shape(icbc_loss_plot))\n",
        "total_loss_plot = pde_loss_plot + icbc_loss_plot"
      ],
      "metadata": {
        "colab": {
          "base_uri": "https://localhost:8080/"
        },
        "id": "9uWDCP65XxbW",
        "outputId": "46c283b7-8524-4eb4-bbc6-b895a8eefa6c"
      },
      "execution_count": null,
      "outputs": [
        {
          "output_type": "stream",
          "name": "stdout",
          "text": [
            "(26, 3)\n",
            "(26,)\n"
          ]
        }
      ]
    },
    {
      "cell_type": "code",
      "source": [
        "plt.figure(figsize=(6,4))\n",
        "epocas = np.linspace(0,N_iter,np.size(pde_loss_plot))\n",
        "plt.plot(epocas,total_loss_plot, 'k', linewidth=2, label=\"Total\")\n",
        "plt.plot(epocas,pde_loss_plot, color='silver', linestyle='--', linewidth=2, label=\"DE loss\")\n",
        "plt.plot(epocas,icbc_loss_plot, color='r', linestyle='-.', linewidth=2, label=\"BC loss\")\n",
        "\n",
        "plt.xlabel('Epocas')\n",
        "plt.ylabel('Função de Custo')\n",
        "plt.yscale('log')\n",
        "plt.title('Historico da Função de Custo')\n",
        "plt.legend()\n",
        "plt.grid(True)\n",
        "plt.show()"
      ],
      "metadata": {
        "colab": {
          "base_uri": "https://localhost:8080/",
          "height": 410
        },
        "id": "mCu5hrO_KVj8",
        "outputId": "94b4b67d-77e2-442f-d521-095524625ca1"
      },
      "execution_count": null,
      "outputs": [
        {
          "output_type": "display_data",
          "data": {
            "text/plain": [
              "<Figure size 600x400 with 1 Axes>"
            ],
            "image/png": "[encoded data removed]"
          },
          "metadata": {}
        }
      ]
    },
    {
      "cell_type": "code",
      "source": [],
      "metadata": {
        "id": "fyzEOnzRKWpm"
      },
      "execution_count": null,
      "outputs": []
    }
  ]
}